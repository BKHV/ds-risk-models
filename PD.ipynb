{
  "nbformat": 4,
  "nbformat_minor": 0,
  "metadata": {
    "kernelspec": {
      "display_name": "Python 3",
      "language": "python",
      "name": "python3"
    },
    "language_info": {
      "codemirror_mode": {
        "name": "ipython",
        "version": 3
      },
      "file_extension": ".py",
      "mimetype": "text/x-python",
      "name": "python",
      "nbconvert_exporter": "python",
      "pygments_lexer": "ipython3",
      "version": "3.7.6"
    },
    "colab": {
      "name": "PD_jun_ds",
      "provenance": [],
      "collapsed_sections": [],
      "toc_visible": true
    }
  },
  "cells": [
    {
      "cell_type": "markdown",
      "metadata": {
        "id": "qb9mY_HmN913",
        "colab_type": "text"
      },
      "source": [
        "# Задание для DS по разработке PD модели"
      ]
    },
    {
      "cell_type": "markdown",
      "metadata": {
        "id": "NbqnB_V8N915",
        "colab_type": "text"
      },
      "source": [
        "## Необходиом разработать модель предсказания дефолта. Даны финансовые данные юридических лиц (выручка, активы, пассивы и т.д). "
      ]
    },
    {
      "cell_type": "markdown",
      "metadata": {
        "id": "EJ9_SMqyN916",
        "colab_type": "text"
      },
      "source": [
        "### Импортируем библиотеки"
      ]
    },
    {
      "cell_type": "code",
      "metadata": {
        "id": "Vo4g-4Y5N917",
        "colab_type": "code",
        "colab": {
          "base_uri": "https://localhost:8080/",
          "height": 70
        },
        "outputId": "ea25765f-eda0-426e-a4d9-c0488ef54159"
      },
      "source": [
        "import pandas as pd\n",
        "from sklearn.metrics import f1_score\n",
        "from matplotlib import pyplot as plt\n",
        "import seaborn as sns\n",
        "from sklearn.preprocessing import StandardScaler\n",
        "from sklearn.model_selection import cross_val_score\n",
        "from sklearn.model_selection import train_test_split\n",
        "from sklearn.linear_model import LogisticRegression\n",
        "from sklearn.metrics import accuracy_score"
      ],
      "execution_count": 1,
      "outputs": [
        {
          "output_type": "stream",
          "text": [
            "/usr/local/lib/python3.6/dist-packages/statsmodels/tools/_testing.py:19: FutureWarning: pandas.util.testing is deprecated. Use the functions in the public API at pandas.testing instead.\n",
            "  import pandas.util.testing as tm\n"
          ],
          "name": "stderr"
        }
      ]
    },
    {
      "cell_type": "markdown",
      "metadata": {
        "id": "4k8ndBMHN92A",
        "colab_type": "text"
      },
      "source": [
        "### Подгружаем данные"
      ]
    },
    {
      "cell_type": "code",
      "metadata": {
        "id": "p6h2C5cJN92B",
        "colab_type": "code",
        "colab": {
          "base_uri": "https://localhost:8080/",
          "height": 375
        },
        "outputId": "0e723f8a-c2fb-4014-df57-b2ea4c29cd5b"
      },
      "source": [
        "!wget https://raw.githubusercontent.com/BKHV/ds-test/master/PD-data-train.csv\n",
        "!wget https://raw.githubusercontent.com/BKHV/ds-test/master/PD-data-test.csv"
      ],
      "execution_count": 2,
      "outputs": [
        {
          "output_type": "stream",
          "text": [
            "--2020-08-31 10:13:56--  https://raw.githubusercontent.com/BKHV/ds-test/master/PD-data-train.csv\n",
            "Resolving raw.githubusercontent.com (raw.githubusercontent.com)... 151.101.0.133, 151.101.64.133, 151.101.128.133, ...\n",
            "Connecting to raw.githubusercontent.com (raw.githubusercontent.com)|151.101.0.133|:443... connected.\n",
            "HTTP request sent, awaiting response... 200 OK\n",
            "Length: 5296871 (5.1M) [text/plain]\n",
            "Saving to: ‘PD-data-train.csv.4’\n",
            "\n",
            "PD-data-train.csv.4 100%[===================>]   5.05M  13.9MB/s    in 0.4s    \n",
            "\n",
            "2020-08-31 10:13:57 (13.9 MB/s) - ‘PD-data-train.csv.4’ saved [5296871/5296871]\n",
            "\n",
            "--2020-08-31 10:13:57--  https://raw.githubusercontent.com/BKHV/ds-test/master/PD-data-test.csv\n",
            "Resolving raw.githubusercontent.com (raw.githubusercontent.com)... 151.101.0.133, 151.101.64.133, 151.101.128.133, ...\n",
            "Connecting to raw.githubusercontent.com (raw.githubusercontent.com)|151.101.0.133|:443... connected.\n",
            "HTTP request sent, awaiting response... 200 OK\n",
            "Length: 28469 (28K) [text/plain]\n",
            "Saving to: ‘PD-data-test.csv.5’\n",
            "\n",
            "PD-data-test.csv.5  100%[===================>]  27.80K  --.-KB/s    in 0.01s   \n",
            "\n",
            "2020-08-31 10:13:57 (2.18 MB/s) - ‘PD-data-test.csv.5’ saved [28469/28469]\n",
            "\n"
          ],
          "name": "stdout"
        }
      ]
    },
    {
      "cell_type": "code",
      "metadata": {
        "id": "XwbL4T6rN92G",
        "colab_type": "code",
        "colab": {}
      },
      "source": [
        "train_df = pd.read_csv('PD-data-train.csv', sep=',')\n",
        "test_df = pd.read_csv('PD-data-test.csv', sep=',')"
      ],
      "execution_count": 3,
      "outputs": []
    },
    {
      "cell_type": "markdown",
      "metadata": {
        "id": "An6p1hDkN92J",
        "colab_type": "text"
      },
      "source": [
        "Семплы и размеры выборок"
      ]
    },
    {
      "cell_type": "code",
      "metadata": {
        "id": "FDqOr3Du8C1Y",
        "colab_type": "code",
        "colab": {
          "base_uri": "https://localhost:8080/",
          "height": 211
        },
        "outputId": "5fa6016a-6113-459c-a67e-9fd3d2fff623"
      },
      "source": [
        "train_df.head()"
      ],
      "execution_count": 4,
      "outputs": [
        {
          "output_type": "execute_result",
          "data": {
            "text/html": [
              "<div>\n",
              "<style scoped>\n",
              "    .dataframe tbody tr th:only-of-type {\n",
              "        vertical-align: middle;\n",
              "    }\n",
              "\n",
              "    .dataframe tbody tr th {\n",
              "        vertical-align: top;\n",
              "    }\n",
              "\n",
              "    .dataframe thead th {\n",
              "        text-align: right;\n",
              "    }\n",
              "</style>\n",
              "<table border=\"1\" class=\"dataframe\">\n",
              "  <thead>\n",
              "    <tr style=\"text-align: right;\">\n",
              "      <th></th>\n",
              "      <th>record_id</th>\n",
              "      <th>ar_revenue</th>\n",
              "      <th>ar_total_expenses</th>\n",
              "      <th>ar_sale_cost</th>\n",
              "      <th>ar_selling_expenses</th>\n",
              "      <th>ar_management_expenses</th>\n",
              "      <th>ar_sale_profit</th>\n",
              "      <th>ar_balance_of_rvns_and_expns</th>\n",
              "      <th>ar_profit_before_tax</th>\n",
              "      <th>ar_taxes</th>\n",
              "      <th>ar_other_profit_and_losses</th>\n",
              "      <th>ar_net_profit</th>\n",
              "      <th>ab_immobilized_assets</th>\n",
              "      <th>ab_mobile_current_assets</th>\n",
              "      <th>ab_inventory</th>\n",
              "      <th>ab_accounts_receivable</th>\n",
              "      <th>ab_other_current_assets</th>\n",
              "      <th>ab_cash_and_securities</th>\n",
              "      <th>ab_losses</th>\n",
              "      <th>ab_own_capital</th>\n",
              "      <th>ab_borrowed_capital</th>\n",
              "      <th>ab_long_term_liabilities</th>\n",
              "      <th>ab_short_term_borrowing</th>\n",
              "      <th>ab_accounts_payable</th>\n",
              "      <th>ab_other_borrowings</th>\n",
              "      <th>bus_age</th>\n",
              "      <th>ogrn_age</th>\n",
              "      <th>adr_actual_age</th>\n",
              "      <th>head_actual_age</th>\n",
              "      <th>cap_actual_age</th>\n",
              "      <th>ul_staff_range</th>\n",
              "      <th>ul_capital_sum</th>\n",
              "      <th>ul_founders_cnt</th>\n",
              "      <th>ul_branch_cnt</th>\n",
              "      <th>ul_strategic_flg</th>\n",
              "      <th>ul_systematizing_flg</th>\n",
              "      <th>default_12m</th>\n",
              "    </tr>\n",
              "  </thead>\n",
              "  <tbody>\n",
              "    <tr>\n",
              "      <th>0</th>\n",
              "      <td>7</td>\n",
              "      <td>52996000.0</td>\n",
              "      <td>48344000.0</td>\n",
              "      <td>48344000.0</td>\n",
              "      <td>0.0</td>\n",
              "      <td>0.0</td>\n",
              "      <td>4652000.0</td>\n",
              "      <td>-2608000.0</td>\n",
              "      <td>2044000.0</td>\n",
              "      <td>846000.0</td>\n",
              "      <td>0.0</td>\n",
              "      <td>1198000.0</td>\n",
              "      <td>0.0</td>\n",
              "      <td>7240000.0</td>\n",
              "      <td>4988000.0</td>\n",
              "      <td>2252000.0</td>\n",
              "      <td>0.0</td>\n",
              "      <td>255000.0</td>\n",
              "      <td>1198000.0</td>\n",
              "      <td>663000.0</td>\n",
              "      <td>15872000.0</td>\n",
              "      <td>0.0</td>\n",
              "      <td>11349000.0</td>\n",
              "      <td>4523000.0</td>\n",
              "      <td>0.0</td>\n",
              "      <td>198</td>\n",
              "      <td>136</td>\n",
              "      <td>3</td>\n",
              "      <td>3</td>\n",
              "      <td>3</td>\n",
              "      <td>[1-100]</td>\n",
              "      <td>50000.0</td>\n",
              "      <td>2</td>\n",
              "      <td>0</td>\n",
              "      <td>0</td>\n",
              "      <td>0</td>\n",
              "      <td>0</td>\n",
              "    </tr>\n",
              "    <tr>\n",
              "      <th>1</th>\n",
              "      <td>13</td>\n",
              "      <td>NaN</td>\n",
              "      <td>NaN</td>\n",
              "      <td>NaN</td>\n",
              "      <td>NaN</td>\n",
              "      <td>NaN</td>\n",
              "      <td>NaN</td>\n",
              "      <td>NaN</td>\n",
              "      <td>NaN</td>\n",
              "      <td>NaN</td>\n",
              "      <td>NaN</td>\n",
              "      <td>NaN</td>\n",
              "      <td>NaN</td>\n",
              "      <td>NaN</td>\n",
              "      <td>NaN</td>\n",
              "      <td>NaN</td>\n",
              "      <td>NaN</td>\n",
              "      <td>NaN</td>\n",
              "      <td>NaN</td>\n",
              "      <td>NaN</td>\n",
              "      <td>NaN</td>\n",
              "      <td>NaN</td>\n",
              "      <td>NaN</td>\n",
              "      <td>NaN</td>\n",
              "      <td>NaN</td>\n",
              "      <td>256</td>\n",
              "      <td>135</td>\n",
              "      <td>12</td>\n",
              "      <td>12</td>\n",
              "      <td>12</td>\n",
              "      <td>[1-100]</td>\n",
              "      <td>10000.0</td>\n",
              "      <td>5</td>\n",
              "      <td>0</td>\n",
              "      <td>0</td>\n",
              "      <td>0</td>\n",
              "      <td>0</td>\n",
              "    </tr>\n",
              "    <tr>\n",
              "      <th>2</th>\n",
              "      <td>18</td>\n",
              "      <td>NaN</td>\n",
              "      <td>NaN</td>\n",
              "      <td>NaN</td>\n",
              "      <td>NaN</td>\n",
              "      <td>NaN</td>\n",
              "      <td>NaN</td>\n",
              "      <td>NaN</td>\n",
              "      <td>NaN</td>\n",
              "      <td>NaN</td>\n",
              "      <td>NaN</td>\n",
              "      <td>NaN</td>\n",
              "      <td>NaN</td>\n",
              "      <td>NaN</td>\n",
              "      <td>NaN</td>\n",
              "      <td>NaN</td>\n",
              "      <td>NaN</td>\n",
              "      <td>NaN</td>\n",
              "      <td>NaN</td>\n",
              "      <td>NaN</td>\n",
              "      <td>NaN</td>\n",
              "      <td>NaN</td>\n",
              "      <td>NaN</td>\n",
              "      <td>NaN</td>\n",
              "      <td>NaN</td>\n",
              "      <td>33</td>\n",
              "      <td>33</td>\n",
              "      <td>28</td>\n",
              "      <td>28</td>\n",
              "      <td>28</td>\n",
              "      <td>[1-100]</td>\n",
              "      <td>10000.0</td>\n",
              "      <td>2</td>\n",
              "      <td>0</td>\n",
              "      <td>0</td>\n",
              "      <td>0</td>\n",
              "      <td>0</td>\n",
              "    </tr>\n",
              "    <tr>\n",
              "      <th>3</th>\n",
              "      <td>22</td>\n",
              "      <td>32049000.0</td>\n",
              "      <td>29568000.0</td>\n",
              "      <td>29568000.0</td>\n",
              "      <td>0.0</td>\n",
              "      <td>0.0</td>\n",
              "      <td>2481000.0</td>\n",
              "      <td>-260000.0</td>\n",
              "      <td>2221000.0</td>\n",
              "      <td>302000.0</td>\n",
              "      <td>0.0</td>\n",
              "      <td>1919000.0</td>\n",
              "      <td>0.0</td>\n",
              "      <td>4245000.0</td>\n",
              "      <td>4082000.0</td>\n",
              "      <td>163000.0</td>\n",
              "      <td>0.0</td>\n",
              "      <td>25000.0</td>\n",
              "      <td>1919000.0</td>\n",
              "      <td>2219000.0</td>\n",
              "      <td>3652000.0</td>\n",
              "      <td>0.0</td>\n",
              "      <td>3652000.0</td>\n",
              "      <td>0.0</td>\n",
              "      <td>0.0</td>\n",
              "      <td>185</td>\n",
              "      <td>139</td>\n",
              "      <td>8</td>\n",
              "      <td>8</td>\n",
              "      <td>8</td>\n",
              "      <td>[1-100]</td>\n",
              "      <td>300000.0</td>\n",
              "      <td>1</td>\n",
              "      <td>0</td>\n",
              "      <td>0</td>\n",
              "      <td>0</td>\n",
              "      <td>0</td>\n",
              "    </tr>\n",
              "    <tr>\n",
              "      <th>4</th>\n",
              "      <td>23</td>\n",
              "      <td>16458000.0</td>\n",
              "      <td>14935000.0</td>\n",
              "      <td>14935000.0</td>\n",
              "      <td>0.0</td>\n",
              "      <td>0.0</td>\n",
              "      <td>1523000.0</td>\n",
              "      <td>-274000.0</td>\n",
              "      <td>1249000.0</td>\n",
              "      <td>538000.0</td>\n",
              "      <td>0.0</td>\n",
              "      <td>711000.0</td>\n",
              "      <td>0.0</td>\n",
              "      <td>8950000.0</td>\n",
              "      <td>8606000.0</td>\n",
              "      <td>344000.0</td>\n",
              "      <td>0.0</td>\n",
              "      <td>492000.0</td>\n",
              "      <td>711000.0</td>\n",
              "      <td>12439000.0</td>\n",
              "      <td>1279000.0</td>\n",
              "      <td>0.0</td>\n",
              "      <td>0.0</td>\n",
              "      <td>1279000.0</td>\n",
              "      <td>0.0</td>\n",
              "      <td>220</td>\n",
              "      <td>138</td>\n",
              "      <td>27</td>\n",
              "      <td>27</td>\n",
              "      <td>27</td>\n",
              "      <td>[1-100]</td>\n",
              "      <td>10000.0</td>\n",
              "      <td>2</td>\n",
              "      <td>0</td>\n",
              "      <td>0</td>\n",
              "      <td>0</td>\n",
              "      <td>0</td>\n",
              "    </tr>\n",
              "  </tbody>\n",
              "</table>\n",
              "</div>"
            ],
            "text/plain": [
              "   record_id  ar_revenue  ...  ul_systematizing_flg  default_12m\n",
              "0          7  52996000.0  ...                     0            0\n",
              "1         13         NaN  ...                     0            0\n",
              "2         18         NaN  ...                     0            0\n",
              "3         22  32049000.0  ...                     0            0\n",
              "4         23  16458000.0  ...                     0            0\n",
              "\n",
              "[5 rows x 37 columns]"
            ]
          },
          "metadata": {
            "tags": []
          },
          "execution_count": 4
        }
      ]
    },
    {
      "cell_type": "code",
      "metadata": {
        "id": "wW_OWNg-8Hfi",
        "colab_type": "code",
        "colab": {
          "base_uri": "https://localhost:8080/",
          "height": 33
        },
        "outputId": "bf27a3ab-e63d-4f0a-e9c8-8636e885ab01"
      },
      "source": [
        "train_df.shape"
      ],
      "execution_count": 5,
      "outputs": [
        {
          "output_type": "execute_result",
          "data": {
            "text/plain": [
              "(32395, 37)"
            ]
          },
          "metadata": {
            "tags": []
          },
          "execution_count": 5
        }
      ]
    },
    {
      "cell_type": "code",
      "metadata": {
        "id": "YLkB3G8P8EF9",
        "colab_type": "code",
        "colab": {
          "base_uri": "https://localhost:8080/",
          "height": 211
        },
        "outputId": "abf47c85-164f-4596-b9d5-8db8b7ee539a"
      },
      "source": [
        "test_df.head()"
      ],
      "execution_count": 6,
      "outputs": [
        {
          "output_type": "execute_result",
          "data": {
            "text/html": [
              "<div>\n",
              "<style scoped>\n",
              "    .dataframe tbody tr th:only-of-type {\n",
              "        vertical-align: middle;\n",
              "    }\n",
              "\n",
              "    .dataframe tbody tr th {\n",
              "        vertical-align: top;\n",
              "    }\n",
              "\n",
              "    .dataframe thead th {\n",
              "        text-align: right;\n",
              "    }\n",
              "</style>\n",
              "<table border=\"1\" class=\"dataframe\">\n",
              "  <thead>\n",
              "    <tr style=\"text-align: right;\">\n",
              "      <th></th>\n",
              "      <th>record_id</th>\n",
              "      <th>ar_revenue</th>\n",
              "      <th>ar_total_expenses</th>\n",
              "      <th>ar_sale_cost</th>\n",
              "      <th>ar_selling_expenses</th>\n",
              "      <th>ar_management_expenses</th>\n",
              "      <th>ar_sale_profit</th>\n",
              "      <th>ar_balance_of_rvns_and_expns</th>\n",
              "      <th>ar_profit_before_tax</th>\n",
              "      <th>ar_taxes</th>\n",
              "      <th>ar_other_profit_and_losses</th>\n",
              "      <th>ar_net_profit</th>\n",
              "      <th>ab_immobilized_assets</th>\n",
              "      <th>ab_mobile_current_assets</th>\n",
              "      <th>ab_inventory</th>\n",
              "      <th>ab_accounts_receivable</th>\n",
              "      <th>ab_other_current_assets</th>\n",
              "      <th>ab_cash_and_securities</th>\n",
              "      <th>ab_losses</th>\n",
              "      <th>ab_own_capital</th>\n",
              "      <th>ab_borrowed_capital</th>\n",
              "      <th>ab_long_term_liabilities</th>\n",
              "      <th>ab_short_term_borrowing</th>\n",
              "      <th>ab_accounts_payable</th>\n",
              "      <th>ab_other_borrowings</th>\n",
              "      <th>bus_age</th>\n",
              "      <th>ogrn_age</th>\n",
              "      <th>adr_actual_age</th>\n",
              "      <th>head_actual_age</th>\n",
              "      <th>cap_actual_age</th>\n",
              "      <th>ul_staff_range</th>\n",
              "      <th>ul_capital_sum</th>\n",
              "      <th>ul_founders_cnt</th>\n",
              "      <th>ul_branch_cnt</th>\n",
              "      <th>ul_strategic_flg</th>\n",
              "      <th>ul_systematizing_flg</th>\n",
              "      <th>default_12m</th>\n",
              "    </tr>\n",
              "  </thead>\n",
              "  <tbody>\n",
              "    <tr>\n",
              "      <th>0</th>\n",
              "      <td>196</td>\n",
              "      <td>39103000.0</td>\n",
              "      <td>38913000.0</td>\n",
              "      <td>38913000.0</td>\n",
              "      <td>0.0</td>\n",
              "      <td>0.0</td>\n",
              "      <td>190000.0</td>\n",
              "      <td>141000.0</td>\n",
              "      <td>331000.0</td>\n",
              "      <td>284000.0</td>\n",
              "      <td>0.0</td>\n",
              "      <td>47000.0</td>\n",
              "      <td>0.0</td>\n",
              "      <td>6009000.0</td>\n",
              "      <td>2451000.0</td>\n",
              "      <td>3558000.0</td>\n",
              "      <td>0.0</td>\n",
              "      <td>677000.0</td>\n",
              "      <td>47000.0</td>\n",
              "      <td>1178000.0</td>\n",
              "      <td>6130000.0</td>\n",
              "      <td>0.0</td>\n",
              "      <td>3000000.0</td>\n",
              "      <td>3130000.0</td>\n",
              "      <td>0.0</td>\n",
              "      <td>156</td>\n",
              "      <td>135</td>\n",
              "      <td>3</td>\n",
              "      <td>3</td>\n",
              "      <td>3</td>\n",
              "      <td>[1-100]</td>\n",
              "      <td>100000.0</td>\n",
              "      <td>1</td>\n",
              "      <td>0</td>\n",
              "      <td>0</td>\n",
              "      <td>0</td>\n",
              "      <td>1</td>\n",
              "    </tr>\n",
              "    <tr>\n",
              "      <th>1</th>\n",
              "      <td>1196</td>\n",
              "      <td>NaN</td>\n",
              "      <td>NaN</td>\n",
              "      <td>NaN</td>\n",
              "      <td>NaN</td>\n",
              "      <td>NaN</td>\n",
              "      <td>NaN</td>\n",
              "      <td>NaN</td>\n",
              "      <td>NaN</td>\n",
              "      <td>NaN</td>\n",
              "      <td>NaN</td>\n",
              "      <td>NaN</td>\n",
              "      <td>NaN</td>\n",
              "      <td>NaN</td>\n",
              "      <td>NaN</td>\n",
              "      <td>NaN</td>\n",
              "      <td>NaN</td>\n",
              "      <td>NaN</td>\n",
              "      <td>NaN</td>\n",
              "      <td>NaN</td>\n",
              "      <td>NaN</td>\n",
              "      <td>NaN</td>\n",
              "      <td>NaN</td>\n",
              "      <td>NaN</td>\n",
              "      <td>NaN</td>\n",
              "      <td>216</td>\n",
              "      <td>138</td>\n",
              "      <td>5</td>\n",
              "      <td>5</td>\n",
              "      <td>5</td>\n",
              "      <td>[1-100]</td>\n",
              "      <td>100000.0</td>\n",
              "      <td>1</td>\n",
              "      <td>0</td>\n",
              "      <td>0</td>\n",
              "      <td>0</td>\n",
              "      <td>0</td>\n",
              "    </tr>\n",
              "    <tr>\n",
              "      <th>2</th>\n",
              "      <td>2813</td>\n",
              "      <td>54174000.0</td>\n",
              "      <td>50929000.0</td>\n",
              "      <td>50929000.0</td>\n",
              "      <td>0.0</td>\n",
              "      <td>0.0</td>\n",
              "      <td>3245000.0</td>\n",
              "      <td>-1278000.0</td>\n",
              "      <td>1967000.0</td>\n",
              "      <td>500000.0</td>\n",
              "      <td>0.0</td>\n",
              "      <td>1467000.0</td>\n",
              "      <td>0.0</td>\n",
              "      <td>8175000.0</td>\n",
              "      <td>8037000.0</td>\n",
              "      <td>138000.0</td>\n",
              "      <td>0.0</td>\n",
              "      <td>237000.0</td>\n",
              "      <td>1467000.0</td>\n",
              "      <td>6835000.0</td>\n",
              "      <td>3906000.0</td>\n",
              "      <td>0.0</td>\n",
              "      <td>0.0</td>\n",
              "      <td>3906000.0</td>\n",
              "      <td>0.0</td>\n",
              "      <td>244</td>\n",
              "      <td>138</td>\n",
              "      <td>20</td>\n",
              "      <td>20</td>\n",
              "      <td>20</td>\n",
              "      <td>[1-100]</td>\n",
              "      <td>250000.0</td>\n",
              "      <td>2</td>\n",
              "      <td>0</td>\n",
              "      <td>0</td>\n",
              "      <td>0</td>\n",
              "      <td>1</td>\n",
              "    </tr>\n",
              "    <tr>\n",
              "      <th>3</th>\n",
              "      <td>4385</td>\n",
              "      <td>1904000.0</td>\n",
              "      <td>1679000.0</td>\n",
              "      <td>1679000.0</td>\n",
              "      <td>0.0</td>\n",
              "      <td>0.0</td>\n",
              "      <td>225000.0</td>\n",
              "      <td>-88000.0</td>\n",
              "      <td>137000.0</td>\n",
              "      <td>0.0</td>\n",
              "      <td>0.0</td>\n",
              "      <td>137000.0</td>\n",
              "      <td>0.0</td>\n",
              "      <td>5790000.0</td>\n",
              "      <td>4314000.0</td>\n",
              "      <td>1476000.0</td>\n",
              "      <td>0.0</td>\n",
              "      <td>35000.0</td>\n",
              "      <td>137000.0</td>\n",
              "      <td>5691000.0</td>\n",
              "      <td>540000.0</td>\n",
              "      <td>0.0</td>\n",
              "      <td>500000.0</td>\n",
              "      <td>40000.0</td>\n",
              "      <td>0.0</td>\n",
              "      <td>272</td>\n",
              "      <td>139</td>\n",
              "      <td>9</td>\n",
              "      <td>9</td>\n",
              "      <td>9</td>\n",
              "      <td>[1-100]</td>\n",
              "      <td>10000.0</td>\n",
              "      <td>2</td>\n",
              "      <td>0</td>\n",
              "      <td>0</td>\n",
              "      <td>0</td>\n",
              "      <td>0</td>\n",
              "    </tr>\n",
              "    <tr>\n",
              "      <th>4</th>\n",
              "      <td>6479</td>\n",
              "      <td>225584000.0</td>\n",
              "      <td>210685000.0</td>\n",
              "      <td>210685000.0</td>\n",
              "      <td>0.0</td>\n",
              "      <td>0.0</td>\n",
              "      <td>14899000.0</td>\n",
              "      <td>-12715000.0</td>\n",
              "      <td>2184000.0</td>\n",
              "      <td>445000.0</td>\n",
              "      <td>0.0</td>\n",
              "      <td>1739000.0</td>\n",
              "      <td>0.0</td>\n",
              "      <td>65485000.0</td>\n",
              "      <td>46006000.0</td>\n",
              "      <td>19479000.0</td>\n",
              "      <td>0.0</td>\n",
              "      <td>956000.0</td>\n",
              "      <td>1739000.0</td>\n",
              "      <td>12408000.0</td>\n",
              "      <td>47017000.0</td>\n",
              "      <td>0.0</td>\n",
              "      <td>16215000.0</td>\n",
              "      <td>30802000.0</td>\n",
              "      <td>0.0</td>\n",
              "      <td>254</td>\n",
              "      <td>139</td>\n",
              "      <td>3</td>\n",
              "      <td>3</td>\n",
              "      <td>3</td>\n",
              "      <td>(100-500]</td>\n",
              "      <td>1700598.0</td>\n",
              "      <td>84</td>\n",
              "      <td>0</td>\n",
              "      <td>0</td>\n",
              "      <td>0</td>\n",
              "      <td>0</td>\n",
              "    </tr>\n",
              "  </tbody>\n",
              "</table>\n",
              "</div>"
            ],
            "text/plain": [
              "   record_id   ar_revenue  ...  ul_systematizing_flg  default_12m\n",
              "0        196   39103000.0  ...                     0            1\n",
              "1       1196          NaN  ...                     0            0\n",
              "2       2813   54174000.0  ...                     0            1\n",
              "3       4385    1904000.0  ...                     0            0\n",
              "4       6479  225584000.0  ...                     0            0\n",
              "\n",
              "[5 rows x 37 columns]"
            ]
          },
          "metadata": {
            "tags": []
          },
          "execution_count": 6
        }
      ]
    },
    {
      "cell_type": "code",
      "metadata": {
        "id": "ap4HITfx8KC7",
        "colab_type": "code",
        "colab": {
          "base_uri": "https://localhost:8080/",
          "height": 33
        },
        "outputId": "9ecd124f-3866-4416-e981-2994f08ef16f"
      },
      "source": [
        "test_df.shape"
      ],
      "execution_count": 7,
      "outputs": [
        {
          "output_type": "execute_result",
          "data": {
            "text/plain": [
              "(200, 37)"
            ]
          },
          "metadata": {
            "tags": []
          },
          "execution_count": 7
        }
      ]
    },
    {
      "cell_type": "markdown",
      "metadata": {
        "id": "H06Wcg09N92N",
        "colab_type": "text"
      },
      "source": [
        "Количество разных типов фичей"
      ]
    },
    {
      "cell_type": "code",
      "metadata": {
        "id": "cYOxzyvLN92O",
        "colab_type": "code",
        "colab": {
          "base_uri": "https://localhost:8080/",
          "height": 82
        },
        "outputId": "8d0185c7-5342-4f91-c287-1dc422fa1b55"
      },
      "source": [
        "train_df.dtypes.value_counts()"
      ],
      "execution_count": 8,
      "outputs": [
        {
          "output_type": "execute_result",
          "data": {
            "text/plain": [
              "float64    25\n",
              "int64      11\n",
              "object      1\n",
              "dtype: int64"
            ]
          },
          "metadata": {
            "tags": []
          },
          "execution_count": 8
        }
      ]
    },
    {
      "cell_type": "markdown",
      "metadata": {
        "id": "f8ZLAgMeN92R",
        "colab_type": "text"
      },
      "source": [
        "Уровень дефолт-рейта в выборке = 6,7219%"
      ]
    },
    {
      "cell_type": "code",
      "metadata": {
        "id": "LTHNGVxTN92S",
        "colab_type": "code",
        "colab": {
          "base_uri": "https://localhost:8080/",
          "height": 33
        },
        "outputId": "0235aafa-033e-432e-99ef-08326f1880a1"
      },
      "source": [
        "train_df['default_12m'].values.mean()"
      ],
      "execution_count": 9,
      "outputs": [
        {
          "output_type": "execute_result",
          "data": {
            "text/plain": [
              "0.06454699799351751"
            ]
          },
          "metadata": {
            "tags": []
          },
          "execution_count": 9
        }
      ]
    },
    {
      "cell_type": "code",
      "metadata": {
        "id": "47MrTU_xN92X",
        "colab_type": "code",
        "colab": {
          "base_uri": "https://localhost:8080/",
          "height": 33
        },
        "outputId": "f759ebbb-4ae4-4732-ab21-136a0c530ef3"
      },
      "source": [
        "train_df.record_id.nunique()"
      ],
      "execution_count": 10,
      "outputs": [
        {
          "output_type": "execute_result",
          "data": {
            "text/plain": [
              "32395"
            ]
          },
          "metadata": {
            "tags": []
          },
          "execution_count": 10
        }
      ]
    },
    {
      "cell_type": "markdown",
      "metadata": {
        "id": "vo_LbDC0N92a",
        "colab_type": "text"
      },
      "source": [
        "32395 уникальных наблюдений"
      ]
    },
    {
      "cell_type": "markdown",
      "metadata": {
        "id": "tIkwdsWrN92b",
        "colab_type": "text"
      },
      "source": [
        "### Строим бэйзлайн модель c 3-ми фичами"
      ]
    },
    {
      "cell_type": "code",
      "metadata": {
        "id": "A_XNOaYeN92b",
        "colab_type": "code",
        "colab": {}
      },
      "source": [
        "features = ['bus_age','ul_capital_sum', 'ul_founders_cnt']"
      ],
      "execution_count": 11,
      "outputs": []
    },
    {
      "cell_type": "code",
      "metadata": {
        "id": "GzVaIYtKN92e",
        "colab_type": "code",
        "colab": {}
      },
      "source": [
        "features_df = train_df.loc[:,features]\n",
        "features_df['default_12m'] = train_df['default_12m']"
      ],
      "execution_count": 12,
      "outputs": []
    },
    {
      "cell_type": "code",
      "metadata": {
        "id": "iGuLdQOKN92h",
        "colab_type": "code",
        "colab": {
          "base_uri": "https://localhost:8080/",
          "height": 191
        },
        "outputId": "b3f0ccb0-3732-4c3f-e3ca-af808e3510a1"
      },
      "source": [
        "features_df.head()"
      ],
      "execution_count": 13,
      "outputs": [
        {
          "output_type": "execute_result",
          "data": {
            "text/html": [
              "<div>\n",
              "<style scoped>\n",
              "    .dataframe tbody tr th:only-of-type {\n",
              "        vertical-align: middle;\n",
              "    }\n",
              "\n",
              "    .dataframe tbody tr th {\n",
              "        vertical-align: top;\n",
              "    }\n",
              "\n",
              "    .dataframe thead th {\n",
              "        text-align: right;\n",
              "    }\n",
              "</style>\n",
              "<table border=\"1\" class=\"dataframe\">\n",
              "  <thead>\n",
              "    <tr style=\"text-align: right;\">\n",
              "      <th></th>\n",
              "      <th>bus_age</th>\n",
              "      <th>ul_capital_sum</th>\n",
              "      <th>ul_founders_cnt</th>\n",
              "      <th>default_12m</th>\n",
              "    </tr>\n",
              "  </thead>\n",
              "  <tbody>\n",
              "    <tr>\n",
              "      <th>0</th>\n",
              "      <td>198</td>\n",
              "      <td>50000.0</td>\n",
              "      <td>2</td>\n",
              "      <td>0</td>\n",
              "    </tr>\n",
              "    <tr>\n",
              "      <th>1</th>\n",
              "      <td>256</td>\n",
              "      <td>10000.0</td>\n",
              "      <td>5</td>\n",
              "      <td>0</td>\n",
              "    </tr>\n",
              "    <tr>\n",
              "      <th>2</th>\n",
              "      <td>33</td>\n",
              "      <td>10000.0</td>\n",
              "      <td>2</td>\n",
              "      <td>0</td>\n",
              "    </tr>\n",
              "    <tr>\n",
              "      <th>3</th>\n",
              "      <td>185</td>\n",
              "      <td>300000.0</td>\n",
              "      <td>1</td>\n",
              "      <td>0</td>\n",
              "    </tr>\n",
              "    <tr>\n",
              "      <th>4</th>\n",
              "      <td>220</td>\n",
              "      <td>10000.0</td>\n",
              "      <td>2</td>\n",
              "      <td>0</td>\n",
              "    </tr>\n",
              "  </tbody>\n",
              "</table>\n",
              "</div>"
            ],
            "text/plain": [
              "   bus_age  ul_capital_sum  ul_founders_cnt  default_12m\n",
              "0      198         50000.0                2            0\n",
              "1      256         10000.0                5            0\n",
              "2       33         10000.0                2            0\n",
              "3      185        300000.0                1            0\n",
              "4      220         10000.0                2            0"
            ]
          },
          "metadata": {
            "tags": []
          },
          "execution_count": 13
        }
      ]
    },
    {
      "cell_type": "markdown",
      "metadata": {
        "id": "zsaqlg0rN92k",
        "colab_type": "text"
      },
      "source": [
        "### Построим карту коллеряций"
      ]
    },
    {
      "cell_type": "code",
      "metadata": {
        "id": "PuTGDJNlN92l",
        "colab_type": "code",
        "colab": {
          "base_uri": "https://localhost:8080/",
          "height": 162
        },
        "outputId": "0f36951f-783d-4933-e1d0-6fe921418619"
      },
      "source": [
        "features_df.corr()"
      ],
      "execution_count": 14,
      "outputs": [
        {
          "output_type": "execute_result",
          "data": {
            "text/html": [
              "<div>\n",
              "<style scoped>\n",
              "    .dataframe tbody tr th:only-of-type {\n",
              "        vertical-align: middle;\n",
              "    }\n",
              "\n",
              "    .dataframe tbody tr th {\n",
              "        vertical-align: top;\n",
              "    }\n",
              "\n",
              "    .dataframe thead th {\n",
              "        text-align: right;\n",
              "    }\n",
              "</style>\n",
              "<table border=\"1\" class=\"dataframe\">\n",
              "  <thead>\n",
              "    <tr style=\"text-align: right;\">\n",
              "      <th></th>\n",
              "      <th>bus_age</th>\n",
              "      <th>ul_capital_sum</th>\n",
              "      <th>ul_founders_cnt</th>\n",
              "      <th>default_12m</th>\n",
              "    </tr>\n",
              "  </thead>\n",
              "  <tbody>\n",
              "    <tr>\n",
              "      <th>bus_age</th>\n",
              "      <td>1.000000</td>\n",
              "      <td>0.066929</td>\n",
              "      <td>0.209451</td>\n",
              "      <td>-0.109389</td>\n",
              "    </tr>\n",
              "    <tr>\n",
              "      <th>ul_capital_sum</th>\n",
              "      <td>0.066929</td>\n",
              "      <td>1.000000</td>\n",
              "      <td>0.029165</td>\n",
              "      <td>-0.019452</td>\n",
              "    </tr>\n",
              "    <tr>\n",
              "      <th>ul_founders_cnt</th>\n",
              "      <td>0.209451</td>\n",
              "      <td>0.029165</td>\n",
              "      <td>1.000000</td>\n",
              "      <td>-0.023244</td>\n",
              "    </tr>\n",
              "    <tr>\n",
              "      <th>default_12m</th>\n",
              "      <td>-0.109389</td>\n",
              "      <td>-0.019452</td>\n",
              "      <td>-0.023244</td>\n",
              "      <td>1.000000</td>\n",
              "    </tr>\n",
              "  </tbody>\n",
              "</table>\n",
              "</div>"
            ],
            "text/plain": [
              "                  bus_age  ul_capital_sum  ul_founders_cnt  default_12m\n",
              "bus_age          1.000000        0.066929         0.209451    -0.109389\n",
              "ul_capital_sum   0.066929        1.000000         0.029165    -0.019452\n",
              "ul_founders_cnt  0.209451        0.029165         1.000000    -0.023244\n",
              "default_12m     -0.109389       -0.019452        -0.023244     1.000000"
            ]
          },
          "metadata": {
            "tags": []
          },
          "execution_count": 14
        }
      ]
    },
    {
      "cell_type": "markdown",
      "metadata": {
        "id": "DjygjQIM8u4Y",
        "colab_type": "text"
      },
      "source": [
        "### Валидация результата"
      ]
    },
    {
      "cell_type": "code",
      "metadata": {
        "id": "NaH5PC4wN92n",
        "colab_type": "code",
        "colab": {
          "base_uri": "https://localhost:8080/",
          "height": 33
        },
        "outputId": "5269e162-5799-4cad-e576-eecf0bf83ffc"
      },
      "source": [
        "X_train, X_test, y_train, y_test = train_test_split(features_df.drop('default_12m',axis=1),\n",
        "                                                    features_df['default_12m'],\n",
        "                                                    random_state=42, shuffle=True)\n",
        "\n",
        "logit = LogisticRegression(C=1,solver='lbfgs',max_iter=1000)\n",
        "cv_baseline = cross_val_score(logit, X_train, y_train, cv=5, scoring='roc_auc').mean()\n",
        "cv_baseline"
      ],
      "execution_count": 15,
      "outputs": [
        {
          "output_type": "execute_result",
          "data": {
            "text/plain": [
              "0.6483643068016243"
            ]
          },
          "metadata": {
            "tags": []
          },
          "execution_count": 15
        }
      ]
    },
    {
      "cell_type": "markdown",
      "metadata": {
        "collapsed": true,
        "id": "13BN0BG1N92q",
        "colab_type": "text"
      },
      "source": [
        "ROC/AUC бэйзлайн модели - 64,83%"
      ]
    },
    {
      "cell_type": "markdown",
      "metadata": {
        "id": "JKsc2E3d8_ZN",
        "colab_type": "text"
      },
      "source": [
        "### Построение модели на всех данных"
      ]
    },
    {
      "cell_type": "code",
      "metadata": {
        "id": "8k4uVr9Q8sYs",
        "colab_type": "code",
        "colab": {
          "base_uri": "https://localhost:8080/",
          "height": 98
        },
        "outputId": "5bce0293-ca15-42a8-8b8a-6ca9ecf05246"
      },
      "source": [
        "logit.fit(features_df.drop('default_12m',axis=1), features_df['default_12m'])"
      ],
      "execution_count": 16,
      "outputs": [
        {
          "output_type": "execute_result",
          "data": {
            "text/plain": [
              "LogisticRegression(C=1, class_weight=None, dual=False, fit_intercept=True,\n",
              "                   intercept_scaling=1, l1_ratio=None, max_iter=1000,\n",
              "                   multi_class='auto', n_jobs=None, penalty='l2',\n",
              "                   random_state=None, solver='lbfgs', tol=0.0001, verbose=0,\n",
              "                   warm_start=False)"
            ]
          },
          "metadata": {
            "tags": []
          },
          "execution_count": 16
        }
      ]
    },
    {
      "cell_type": "markdown",
      "metadata": {
        "id": "OQ1Y1r6E9bvN",
        "colab_type": "text"
      },
      "source": [
        "### Формирование файла с ответом"
      ]
    },
    {
      "cell_type": "code",
      "metadata": {
        "id": "_9YdWZm8-7k0",
        "colab_type": "code",
        "colab": {}
      },
      "source": [
        "answ_df = test_df[['record_id']]"
      ],
      "execution_count": 17,
      "outputs": []
    },
    {
      "cell_type": "code",
      "metadata": {
        "id": "RizmO5g4_wPO",
        "colab_type": "code",
        "colab": {
          "base_uri": "https://localhost:8080/",
          "height": 115
        },
        "outputId": "1cf87965-5f56-4a89-f90e-572bcf5d3736"
      },
      "source": [
        "answ_df['id'] = answ_df['record_id']"
      ],
      "execution_count": 18,
      "outputs": [
        {
          "output_type": "stream",
          "text": [
            "/usr/local/lib/python3.6/dist-packages/ipykernel_launcher.py:1: SettingWithCopyWarning: \n",
            "A value is trying to be set on a copy of a slice from a DataFrame.\n",
            "Try using .loc[row_indexer,col_indexer] = value instead\n",
            "\n",
            "See the caveats in the documentation: https://pandas.pydata.org/pandas-docs/stable/user_guide/indexing.html#returning-a-view-versus-a-copy\n",
            "  \"\"\"Entry point for launching an IPython kernel.\n"
          ],
          "name": "stderr"
        }
      ]
    },
    {
      "cell_type": "code",
      "metadata": {
        "id": "r7fiDf_l9igh",
        "colab_type": "code",
        "colab": {
          "base_uri": "https://localhost:8080/",
          "height": 98
        },
        "outputId": "f29b6e54-12ee-4b9d-88f5-3b58036adc18"
      },
      "source": [
        "\n",
        "answ_df.drop('record_id',axis=1, inplace=True)"
      ],
      "execution_count": 19,
      "outputs": [
        {
          "output_type": "stream",
          "text": [
            "/usr/local/lib/python3.6/dist-packages/pandas/core/frame.py:3997: SettingWithCopyWarning: \n",
            "A value is trying to be set on a copy of a slice from a DataFrame\n",
            "\n",
            "See the caveats in the documentation: https://pandas.pydata.org/pandas-docs/stable/user_guide/indexing.html#returning-a-view-versus-a-copy\n",
            "  errors=errors,\n"
          ],
          "name": "stderr"
        }
      ]
    },
    {
      "cell_type": "code",
      "metadata": {
        "id": "ye8YVTYG90_6",
        "colab_type": "code",
        "colab": {}
      },
      "source": [
        "cutoff = y_train.mean()"
      ],
      "execution_count": 20,
      "outputs": []
    },
    {
      "cell_type": "code",
      "metadata": {
        "id": "GtV2vm1o9tMF",
        "colab_type": "code",
        "colab": {
          "base_uri": "https://localhost:8080/",
          "height": 115
        },
        "outputId": "271a9a2e-3fe6-4182-a75a-9cdb60029d6b"
      },
      "source": [
        "answ_df['predict'] = (logit.predict_proba(test_df.loc[:,features])[:,1]>cutoff).astype(int)"
      ],
      "execution_count": 21,
      "outputs": [
        {
          "output_type": "stream",
          "text": [
            "/usr/local/lib/python3.6/dist-packages/ipykernel_launcher.py:1: SettingWithCopyWarning: \n",
            "A value is trying to be set on a copy of a slice from a DataFrame.\n",
            "Try using .loc[row_indexer,col_indexer] = value instead\n",
            "\n",
            "See the caveats in the documentation: https://pandas.pydata.org/pandas-docs/stable/user_guide/indexing.html#returning-a-view-versus-a-copy\n",
            "  \"\"\"Entry point for launching an IPython kernel.\n"
          ],
          "name": "stderr"
        }
      ]
    },
    {
      "cell_type": "code",
      "metadata": {
        "id": "BAet0WO6-A_5",
        "colab_type": "code",
        "colab": {}
      },
      "source": [
        "answ_df.to_csv('prediction_classes.csv',index=False, sep=';')"
      ],
      "execution_count": 22,
      "outputs": []
    },
    {
      "cell_type": "markdown",
      "metadata": {
        "id": "G7OdXngvN92r",
        "colab_type": "text"
      },
      "source": [
        "Для загрузки своего рузультата на https://dsbattle.com/hackathons/juniords/ вам нужно создать csv файл с двумя колонками (id, predict), разделитель - точка с запятой (;)"
      ]
    }
  ]
}