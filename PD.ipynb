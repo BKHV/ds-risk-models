{
 "cells": [
  {
   "cell_type": "markdown",
   "metadata": {},
   "source": [
    "# Задание для DS по разработке PD модели"
   ]
  },
  {
   "cell_type": "markdown",
   "metadata": {},
   "source": [
    "## Необходиом разработать модель предсказания дефолта. Даны финансовые данные юридических лиц (выручка, активы, пассивы и т.д). "
   ]
  },
  {
   "cell_type": "markdown",
   "metadata": {},
   "source": [
    "### Импортируем библиотеки"
   ]
  },
  {
   "cell_type": "code",
   "execution_count": 36,
   "metadata": {},
   "outputs": [],
   "source": [
    "import pandas as pd\n",
    "from sklearn.metrics import f1_score\n",
    "from matplotlib import pyplot as plt\n",
    "import seaborn as sns\n",
    "from sklearn.preprocessing import StandardScaler"
   ]
  },
  {
   "cell_type": "markdown",
   "metadata": {},
   "source": [
    "### Подгружаем данные"
   ]
  },
  {
   "cell_type": "code",
   "execution_count": 4,
   "metadata": {},
   "outputs": [
    {
     "name": "stdout",
     "output_type": "stream",
     "text": [
      "/bin/sh: wget: command not found\r\n"
     ]
    }
   ],
   "source": [
    "!wget https://raw.githubusercontent.com/BKHV/ds-test/master/PD-data.csv"
   ]
  },
  {
   "cell_type": "code",
   "execution_count": 2,
   "metadata": {
    "collapsed": true
   },
   "outputs": [],
   "source": [
    "df = pd.read_csv('PD-data.csv', sep=';')"
   ]
  },
  {
   "cell_type": "markdown",
   "metadata": {},
   "source": [
    "Размеры выборок"
   ]
  },
  {
   "cell_type": "code",
   "execution_count": 3,
   "metadata": {},
   "outputs": [
    {
     "name": "stdout",
     "output_type": "stream",
     "text": [
      "(32595, 37)\n"
     ]
    }
   ],
   "source": [
    "print(df.shape)"
   ]
  },
  {
   "cell_type": "markdown",
   "metadata": {},
   "source": [
    "Количество разных типов фичей"
   ]
  },
  {
   "cell_type": "code",
   "execution_count": 4,
   "metadata": {},
   "outputs": [
    {
     "data": {
      "text/plain": [
       "float64    25\n",
       "int64      11\n",
       "object      1\n",
       "dtype: int64"
      ]
     },
     "execution_count": 4,
     "metadata": {},
     "output_type": "execute_result"
    }
   ],
   "source": [
    "df.dtypes.value_counts()"
   ]
  },
  {
   "cell_type": "markdown",
   "metadata": {},
   "source": [
    "Уровень дефолт-рейта в выборке = 6,7219%"
   ]
  },
  {
   "cell_type": "code",
   "execution_count": 5,
   "metadata": {},
   "outputs": [
    {
     "data": {
      "text/plain": [
       "0    0.932781\n",
       "1    0.067219\n",
       "Name: default_12m, dtype: float64"
      ]
     },
     "execution_count": 5,
     "metadata": {},
     "output_type": "execute_result"
    }
   ],
   "source": [
    "df.default_12m.value_counts(normalize=True)"
   ]
  },
  {
   "cell_type": "code",
   "execution_count": 6,
   "metadata": {},
   "outputs": [
    {
     "data": {
      "text/plain": [
       "32595"
      ]
     },
     "execution_count": 6,
     "metadata": {},
     "output_type": "execute_result"
    }
   ],
   "source": [
    "df.record_id.nunique()"
   ]
  },
  {
   "cell_type": "markdown",
   "metadata": {},
   "source": [
    "32595 уникальных наблюдений"
   ]
  },
  {
   "cell_type": "markdown",
   "metadata": {},
   "source": [
    "### Строим бэйзлайн модель"
   ]
  },
  {
   "cell_type": "code",
   "execution_count": 24,
   "metadata": {
    "collapsed": true
   },
   "outputs": [],
   "source": [
    "features = ['bus_age','ogrn_age',\n",
    "                              'head_actual_age', 'adr_actual_age',\n",
    "                              'cap_actual_age', 'ul_staff_range',\n",
    "                              'ul_capital_sum', 'ul_founders_cnt',\n",
    "                              'ul_branch_cnt', 'ul_strategic_flg',\n",
    "                              'ul_systematizing_flg']"
   ]
  },
  {
   "cell_type": "code",
   "execution_count": 25,
   "metadata": {
    "collapsed": true
   },
   "outputs": [],
   "source": [
    "features_df = df.loc[:,features]\n",
    "features_df['default_12m'] = df['default_12m']"
   ]
  },
  {
   "cell_type": "code",
   "execution_count": 26,
   "metadata": {},
   "outputs": [
    {
     "data": {
      "text/html": [
       "<div>\n",
       "<style scoped>\n",
       "    .dataframe tbody tr th:only-of-type {\n",
       "        vertical-align: middle;\n",
       "    }\n",
       "\n",
       "    .dataframe tbody tr th {\n",
       "        vertical-align: top;\n",
       "    }\n",
       "\n",
       "    .dataframe thead th {\n",
       "        text-align: right;\n",
       "    }\n",
       "</style>\n",
       "<table border=\"1\" class=\"dataframe\">\n",
       "  <thead>\n",
       "    <tr style=\"text-align: right;\">\n",
       "      <th></th>\n",
       "      <th>bus_age</th>\n",
       "      <th>ogrn_age</th>\n",
       "      <th>head_actual_age</th>\n",
       "      <th>adr_actual_age</th>\n",
       "      <th>cap_actual_age</th>\n",
       "      <th>ul_staff_range</th>\n",
       "      <th>ul_capital_sum</th>\n",
       "      <th>ul_founders_cnt</th>\n",
       "      <th>ul_branch_cnt</th>\n",
       "      <th>ul_strategic_flg</th>\n",
       "      <th>ul_systematizing_flg</th>\n",
       "      <th>default_12m</th>\n",
       "    </tr>\n",
       "  </thead>\n",
       "  <tbody>\n",
       "    <tr>\n",
       "      <th>0</th>\n",
       "      <td>198</td>\n",
       "      <td>136</td>\n",
       "      <td>3</td>\n",
       "      <td>3</td>\n",
       "      <td>3</td>\n",
       "      <td>[1-100]</td>\n",
       "      <td>50000.0</td>\n",
       "      <td>2</td>\n",
       "      <td>0</td>\n",
       "      <td>0</td>\n",
       "      <td>0</td>\n",
       "      <td>0</td>\n",
       "    </tr>\n",
       "    <tr>\n",
       "      <th>1</th>\n",
       "      <td>256</td>\n",
       "      <td>135</td>\n",
       "      <td>12</td>\n",
       "      <td>12</td>\n",
       "      <td>12</td>\n",
       "      <td>[1-100]</td>\n",
       "      <td>10000.0</td>\n",
       "      <td>5</td>\n",
       "      <td>0</td>\n",
       "      <td>0</td>\n",
       "      <td>0</td>\n",
       "      <td>0</td>\n",
       "    </tr>\n",
       "    <tr>\n",
       "      <th>2</th>\n",
       "      <td>33</td>\n",
       "      <td>33</td>\n",
       "      <td>28</td>\n",
       "      <td>28</td>\n",
       "      <td>28</td>\n",
       "      <td>[1-100]</td>\n",
       "      <td>10000.0</td>\n",
       "      <td>2</td>\n",
       "      <td>0</td>\n",
       "      <td>0</td>\n",
       "      <td>0</td>\n",
       "      <td>0</td>\n",
       "    </tr>\n",
       "    <tr>\n",
       "      <th>3</th>\n",
       "      <td>185</td>\n",
       "      <td>139</td>\n",
       "      <td>8</td>\n",
       "      <td>8</td>\n",
       "      <td>8</td>\n",
       "      <td>[1-100]</td>\n",
       "      <td>300000.0</td>\n",
       "      <td>1</td>\n",
       "      <td>0</td>\n",
       "      <td>0</td>\n",
       "      <td>0</td>\n",
       "      <td>0</td>\n",
       "    </tr>\n",
       "    <tr>\n",
       "      <th>4</th>\n",
       "      <td>220</td>\n",
       "      <td>138</td>\n",
       "      <td>27</td>\n",
       "      <td>27</td>\n",
       "      <td>27</td>\n",
       "      <td>[1-100]</td>\n",
       "      <td>10000.0</td>\n",
       "      <td>2</td>\n",
       "      <td>0</td>\n",
       "      <td>0</td>\n",
       "      <td>0</td>\n",
       "      <td>0</td>\n",
       "    </tr>\n",
       "  </tbody>\n",
       "</table>\n",
       "</div>"
      ],
      "text/plain": [
       "   bus_age  ogrn_age  head_actual_age  adr_actual_age  cap_actual_age  \\\n",
       "0      198       136                3               3               3   \n",
       "1      256       135               12              12              12   \n",
       "2       33        33               28              28              28   \n",
       "3      185       139                8               8               8   \n",
       "4      220       138               27              27              27   \n",
       "\n",
       "  ul_staff_range  ul_capital_sum  ul_founders_cnt  ul_branch_cnt  \\\n",
       "0        [1-100]         50000.0                2              0   \n",
       "1        [1-100]         10000.0                5              0   \n",
       "2        [1-100]         10000.0                2              0   \n",
       "3        [1-100]        300000.0                1              0   \n",
       "4        [1-100]         10000.0                2              0   \n",
       "\n",
       "   ul_strategic_flg  ul_systematizing_flg  default_12m  \n",
       "0                 0                     0            0  \n",
       "1                 0                     0            0  \n",
       "2                 0                     0            0  \n",
       "3                 0                     0            0  \n",
       "4                 0                     0            0  "
      ]
     },
     "execution_count": 26,
     "metadata": {},
     "output_type": "execute_result"
    }
   ],
   "source": [
    "features_df.head()"
   ]
  },
  {
   "cell_type": "markdown",
   "metadata": {},
   "source": [
    "### Построим карту коллеряций"
   ]
  },
  {
   "cell_type": "code",
   "execution_count": 32,
   "metadata": {},
   "outputs": [
    {
     "data": {
      "text/html": [
       "<div>\n",
       "<style scoped>\n",
       "    .dataframe tbody tr th:only-of-type {\n",
       "        vertical-align: middle;\n",
       "    }\n",
       "\n",
       "    .dataframe tbody tr th {\n",
       "        vertical-align: top;\n",
       "    }\n",
       "\n",
       "    .dataframe thead th {\n",
       "        text-align: right;\n",
       "    }\n",
       "</style>\n",
       "<table border=\"1\" class=\"dataframe\">\n",
       "  <thead>\n",
       "    <tr style=\"text-align: right;\">\n",
       "      <th></th>\n",
       "      <th>bus_age</th>\n",
       "      <th>ogrn_age</th>\n",
       "      <th>head_actual_age</th>\n",
       "      <th>adr_actual_age</th>\n",
       "      <th>cap_actual_age</th>\n",
       "      <th>ul_capital_sum</th>\n",
       "      <th>ul_founders_cnt</th>\n",
       "      <th>ul_branch_cnt</th>\n",
       "      <th>ul_strategic_flg</th>\n",
       "      <th>ul_systematizing_flg</th>\n",
       "      <th>default_12m</th>\n",
       "    </tr>\n",
       "  </thead>\n",
       "  <tbody>\n",
       "    <tr>\n",
       "      <th>bus_age</th>\n",
       "      <td>1.000000</td>\n",
       "      <td>0.857296</td>\n",
       "      <td>0.024008</td>\n",
       "      <td>0.024008</td>\n",
       "      <td>0.024008</td>\n",
       "      <td>0.067037</td>\n",
       "      <td>0.209244</td>\n",
       "      <td>0.071920</td>\n",
       "      <td>0.019498</td>\n",
       "      <td>NaN</td>\n",
       "      <td>-0.111336</td>\n",
       "    </tr>\n",
       "    <tr>\n",
       "      <th>ogrn_age</th>\n",
       "      <td>0.857296</td>\n",
       "      <td>1.000000</td>\n",
       "      <td>0.112758</td>\n",
       "      <td>0.112758</td>\n",
       "      <td>0.112758</td>\n",
       "      <td>0.031455</td>\n",
       "      <td>0.135316</td>\n",
       "      <td>0.057288</td>\n",
       "      <td>-0.004515</td>\n",
       "      <td>NaN</td>\n",
       "      <td>-0.123441</td>\n",
       "    </tr>\n",
       "    <tr>\n",
       "      <th>head_actual_age</th>\n",
       "      <td>0.024008</td>\n",
       "      <td>0.112758</td>\n",
       "      <td>1.000000</td>\n",
       "      <td>1.000000</td>\n",
       "      <td>1.000000</td>\n",
       "      <td>-0.032241</td>\n",
       "      <td>-0.018492</td>\n",
       "      <td>0.066897</td>\n",
       "      <td>-0.011395</td>\n",
       "      <td>NaN</td>\n",
       "      <td>-0.055559</td>\n",
       "    </tr>\n",
       "    <tr>\n",
       "      <th>adr_actual_age</th>\n",
       "      <td>0.024008</td>\n",
       "      <td>0.112758</td>\n",
       "      <td>1.000000</td>\n",
       "      <td>1.000000</td>\n",
       "      <td>1.000000</td>\n",
       "      <td>-0.032241</td>\n",
       "      <td>-0.018492</td>\n",
       "      <td>0.066897</td>\n",
       "      <td>-0.011395</td>\n",
       "      <td>NaN</td>\n",
       "      <td>-0.055559</td>\n",
       "    </tr>\n",
       "    <tr>\n",
       "      <th>cap_actual_age</th>\n",
       "      <td>0.024008</td>\n",
       "      <td>0.112758</td>\n",
       "      <td>1.000000</td>\n",
       "      <td>1.000000</td>\n",
       "      <td>1.000000</td>\n",
       "      <td>-0.032241</td>\n",
       "      <td>-0.018492</td>\n",
       "      <td>0.066897</td>\n",
       "      <td>-0.011395</td>\n",
       "      <td>NaN</td>\n",
       "      <td>-0.055559</td>\n",
       "    </tr>\n",
       "    <tr>\n",
       "      <th>ul_capital_sum</th>\n",
       "      <td>0.067037</td>\n",
       "      <td>0.031455</td>\n",
       "      <td>-0.032241</td>\n",
       "      <td>-0.032241</td>\n",
       "      <td>-0.032241</td>\n",
       "      <td>1.000000</td>\n",
       "      <td>0.029621</td>\n",
       "      <td>0.018203</td>\n",
       "      <td>0.165191</td>\n",
       "      <td>NaN</td>\n",
       "      <td>-0.019556</td>\n",
       "    </tr>\n",
       "    <tr>\n",
       "      <th>ul_founders_cnt</th>\n",
       "      <td>0.209244</td>\n",
       "      <td>0.135316</td>\n",
       "      <td>-0.018492</td>\n",
       "      <td>-0.018492</td>\n",
       "      <td>-0.018492</td>\n",
       "      <td>0.029621</td>\n",
       "      <td>1.000000</td>\n",
       "      <td>0.012339</td>\n",
       "      <td>0.035811</td>\n",
       "      <td>NaN</td>\n",
       "      <td>-0.024054</td>\n",
       "    </tr>\n",
       "    <tr>\n",
       "      <th>ul_branch_cnt</th>\n",
       "      <td>0.071920</td>\n",
       "      <td>0.057288</td>\n",
       "      <td>0.066897</td>\n",
       "      <td>0.066897</td>\n",
       "      <td>0.066897</td>\n",
       "      <td>0.018203</td>\n",
       "      <td>0.012339</td>\n",
       "      <td>1.000000</td>\n",
       "      <td>-0.000605</td>\n",
       "      <td>NaN</td>\n",
       "      <td>-0.014770</td>\n",
       "    </tr>\n",
       "    <tr>\n",
       "      <th>ul_strategic_flg</th>\n",
       "      <td>0.019498</td>\n",
       "      <td>-0.004515</td>\n",
       "      <td>-0.011395</td>\n",
       "      <td>-0.011395</td>\n",
       "      <td>-0.011395</td>\n",
       "      <td>0.165191</td>\n",
       "      <td>0.035811</td>\n",
       "      <td>-0.000605</td>\n",
       "      <td>1.000000</td>\n",
       "      <td>NaN</td>\n",
       "      <td>-0.002575</td>\n",
       "    </tr>\n",
       "    <tr>\n",
       "      <th>ul_systematizing_flg</th>\n",
       "      <td>NaN</td>\n",
       "      <td>NaN</td>\n",
       "      <td>NaN</td>\n",
       "      <td>NaN</td>\n",
       "      <td>NaN</td>\n",
       "      <td>NaN</td>\n",
       "      <td>NaN</td>\n",
       "      <td>NaN</td>\n",
       "      <td>NaN</td>\n",
       "      <td>NaN</td>\n",
       "      <td>NaN</td>\n",
       "    </tr>\n",
       "    <tr>\n",
       "      <th>default_12m</th>\n",
       "      <td>-0.111336</td>\n",
       "      <td>-0.123441</td>\n",
       "      <td>-0.055559</td>\n",
       "      <td>-0.055559</td>\n",
       "      <td>-0.055559</td>\n",
       "      <td>-0.019556</td>\n",
       "      <td>-0.024054</td>\n",
       "      <td>-0.014770</td>\n",
       "      <td>-0.002575</td>\n",
       "      <td>NaN</td>\n",
       "      <td>1.000000</td>\n",
       "    </tr>\n",
       "  </tbody>\n",
       "</table>\n",
       "</div>"
      ],
      "text/plain": [
       "                       bus_age  ogrn_age  head_actual_age  adr_actual_age  \\\n",
       "bus_age               1.000000  0.857296         0.024008        0.024008   \n",
       "ogrn_age              0.857296  1.000000         0.112758        0.112758   \n",
       "head_actual_age       0.024008  0.112758         1.000000        1.000000   \n",
       "adr_actual_age        0.024008  0.112758         1.000000        1.000000   \n",
       "cap_actual_age        0.024008  0.112758         1.000000        1.000000   \n",
       "ul_capital_sum        0.067037  0.031455        -0.032241       -0.032241   \n",
       "ul_founders_cnt       0.209244  0.135316        -0.018492       -0.018492   \n",
       "ul_branch_cnt         0.071920  0.057288         0.066897        0.066897   \n",
       "ul_strategic_flg      0.019498 -0.004515        -0.011395       -0.011395   \n",
       "ul_systematizing_flg       NaN       NaN              NaN             NaN   \n",
       "default_12m          -0.111336 -0.123441        -0.055559       -0.055559   \n",
       "\n",
       "                      cap_actual_age  ul_capital_sum  ul_founders_cnt  \\\n",
       "bus_age                     0.024008        0.067037         0.209244   \n",
       "ogrn_age                    0.112758        0.031455         0.135316   \n",
       "head_actual_age             1.000000       -0.032241        -0.018492   \n",
       "adr_actual_age              1.000000       -0.032241        -0.018492   \n",
       "cap_actual_age              1.000000       -0.032241        -0.018492   \n",
       "ul_capital_sum             -0.032241        1.000000         0.029621   \n",
       "ul_founders_cnt            -0.018492        0.029621         1.000000   \n",
       "ul_branch_cnt               0.066897        0.018203         0.012339   \n",
       "ul_strategic_flg           -0.011395        0.165191         0.035811   \n",
       "ul_systematizing_flg             NaN             NaN              NaN   \n",
       "default_12m                -0.055559       -0.019556        -0.024054   \n",
       "\n",
       "                      ul_branch_cnt  ul_strategic_flg  ul_systematizing_flg  \\\n",
       "bus_age                    0.071920          0.019498                   NaN   \n",
       "ogrn_age                   0.057288         -0.004515                   NaN   \n",
       "head_actual_age            0.066897         -0.011395                   NaN   \n",
       "adr_actual_age             0.066897         -0.011395                   NaN   \n",
       "cap_actual_age             0.066897         -0.011395                   NaN   \n",
       "ul_capital_sum             0.018203          0.165191                   NaN   \n",
       "ul_founders_cnt            0.012339          0.035811                   NaN   \n",
       "ul_branch_cnt              1.000000         -0.000605                   NaN   \n",
       "ul_strategic_flg          -0.000605          1.000000                   NaN   \n",
       "ul_systematizing_flg            NaN               NaN                   NaN   \n",
       "default_12m               -0.014770         -0.002575                   NaN   \n",
       "\n",
       "                      default_12m  \n",
       "bus_age                 -0.111336  \n",
       "ogrn_age                -0.123441  \n",
       "head_actual_age         -0.055559  \n",
       "adr_actual_age          -0.055559  \n",
       "cap_actual_age          -0.055559  \n",
       "ul_capital_sum          -0.019556  \n",
       "ul_founders_cnt         -0.024054  \n",
       "ul_branch_cnt           -0.014770  \n",
       "ul_strategic_flg        -0.002575  \n",
       "ul_systematizing_flg          NaN  \n",
       "default_12m              1.000000  "
      ]
     },
     "execution_count": 32,
     "metadata": {},
     "output_type": "execute_result"
    }
   ],
   "source": [
    "features_df.corr()"
   ]
  },
  {
   "cell_type": "code",
   "execution_count": 40,
   "metadata": {},
   "outputs": [
    {
     "ename": "ValueError",
     "evalue": "could not convert string to float: '[1-100]'",
     "output_type": "error",
     "traceback": [
      "\u001b[0;31m---------------------------------------------------------------------------\u001b[0m",
      "\u001b[0;31mValueError\u001b[0m                                Traceback (most recent call last)",
      "\u001b[0;32m<ipython-input-40-10a59f71189f>\u001b[0m in \u001b[0;36m<module>\u001b[0;34m()\u001b[0m\n\u001b[1;32m      2\u001b[0m                  'ul_capital_sum', 'ul_founders_cnt','ul_staff_range']\n\u001b[1;32m      3\u001b[0m \u001b[0mcateg_features\u001b[0m \u001b[0;34m=\u001b[0m \u001b[0;34m[\u001b[0m\u001b[0;34m'ul_staff_range'\u001b[0m\u001b[0;34m,\u001b[0m\u001b[0;34m'ul_strategic_flg'\u001b[0m\u001b[0;34m,\u001b[0m\u001b[0;34m'ul_branch_cnt'\u001b[0m\u001b[0;34m]\u001b[0m\u001b[0;34m\u001b[0m\u001b[0m\n\u001b[0;32m----> 4\u001b[0;31m \u001b[0mtry_df\u001b[0m\u001b[0;34m,\u001b[0m \u001b[0mscaler\u001b[0m \u001b[0;34m=\u001b[0m \u001b[0mget_dataset\u001b[0m\u001b[0;34m(\u001b[0m\u001b[0mfeatures_df\u001b[0m\u001b[0;34m,\u001b[0m\u001b[0mreal_features\u001b[0m\u001b[0;34m,\u001b[0m\u001b[0mcateg_features\u001b[0m\u001b[0;34m)\u001b[0m\u001b[0;34m\u001b[0m\u001b[0m\n\u001b[0m\u001b[1;32m      5\u001b[0m X_train, X_test, y_train, y_test = train_test_split(try_df.drop('default_12m',axis=1),\n\u001b[1;32m      6\u001b[0m                                                     \u001b[0mtry_df\u001b[0m\u001b[0;34m[\u001b[0m\u001b[0;34m'default_12m'\u001b[0m\u001b[0;34m]\u001b[0m\u001b[0;34m,\u001b[0m\u001b[0;34m\u001b[0m\u001b[0m\n",
      "\u001b[0;32m<ipython-input-20-9fb0df435ad5>\u001b[0m in \u001b[0;36mget_dataset\u001b[0;34m(df, real_features_names, categ_features_names, scaler)\u001b[0m\n\u001b[1;32m      1\u001b[0m \u001b[0;32mdef\u001b[0m \u001b[0mget_dataset\u001b[0m\u001b[0;34m(\u001b[0m\u001b[0mdf\u001b[0m\u001b[0;34m,\u001b[0m \u001b[0mreal_features_names\u001b[0m\u001b[0;34m,\u001b[0m \u001b[0mcateg_features_names\u001b[0m\u001b[0;34m,\u001b[0m\u001b[0mscaler\u001b[0m\u001b[0;34m=\u001b[0m\u001b[0;32mNone\u001b[0m\u001b[0;34m)\u001b[0m\u001b[0;34m:\u001b[0m\u001b[0;34m\u001b[0m\u001b[0m\n\u001b[1;32m      2\u001b[0m     \u001b[0minternal_df\u001b[0m \u001b[0;34m=\u001b[0m \u001b[0mdf\u001b[0m\u001b[0;34m.\u001b[0m\u001b[0mcopy\u001b[0m\u001b[0;34m(\u001b[0m\u001b[0;34m)\u001b[0m\u001b[0;34m\u001b[0m\u001b[0m\n\u001b[0;32m----> 3\u001b[0;31m     \u001b[0minternal_df\u001b[0m\u001b[0;34m,\u001b[0m \u001b[0mscaler\u001b[0m \u001b[0;34m=\u001b[0m \u001b[0mreal_feature_scaler\u001b[0m\u001b[0;34m(\u001b[0m\u001b[0minternal_df\u001b[0m\u001b[0;34m,\u001b[0m\u001b[0mreal_features_names\u001b[0m\u001b[0;34m,\u001b[0m\u001b[0mscaler\u001b[0m\u001b[0;34m)\u001b[0m\u001b[0;34m\u001b[0m\u001b[0m\n\u001b[0m\u001b[1;32m      4\u001b[0m     \u001b[0minternal_df\u001b[0m \u001b[0;34m=\u001b[0m \u001b[0mcateg_feature_encoder\u001b[0m\u001b[0;34m(\u001b[0m\u001b[0minternal_df\u001b[0m\u001b[0;34m,\u001b[0m\u001b[0mcateg_features_names\u001b[0m\u001b[0;34m)\u001b[0m\u001b[0;34m\u001b[0m\u001b[0m\n\u001b[1;32m      5\u001b[0m     \u001b[0;32mreturn\u001b[0m \u001b[0minternal_df\u001b[0m\u001b[0;34m,\u001b[0m \u001b[0mscaler\u001b[0m\u001b[0;34m\u001b[0m\u001b[0m\n",
      "\u001b[0;32m<ipython-input-22-eac9c08f39bb>\u001b[0m in \u001b[0;36mreal_feature_scaler\u001b[0;34m(df, real_features_names, scaler)\u001b[0m\n\u001b[1;32m      5\u001b[0m     \u001b[0;32mif\u001b[0m \u001b[0mscaler\u001b[0m\u001b[0;34m==\u001b[0m\u001b[0;32mNone\u001b[0m\u001b[0;34m:\u001b[0m\u001b[0;34m\u001b[0m\u001b[0m\n\u001b[1;32m      6\u001b[0m         \u001b[0mscaler\u001b[0m \u001b[0;34m=\u001b[0m \u001b[0mStandardScaler\u001b[0m\u001b[0;34m(\u001b[0m\u001b[0;34m)\u001b[0m\u001b[0;34m\u001b[0m\u001b[0m\n\u001b[0;32m----> 7\u001b[0;31m         \u001b[0mscaler\u001b[0m\u001b[0;34m.\u001b[0m\u001b[0mfit\u001b[0m\u001b[0;34m(\u001b[0m\u001b[0mdf\u001b[0m\u001b[0;34m[\u001b[0m\u001b[0mreal_features_names\u001b[0m\u001b[0;34m]\u001b[0m\u001b[0;34m)\u001b[0m\u001b[0;34m\u001b[0m\u001b[0m\n\u001b[0m\u001b[1;32m      8\u001b[0m         \u001b[0mdf\u001b[0m\u001b[0;34m[\u001b[0m\u001b[0mreal_features_names\u001b[0m\u001b[0;34m]\u001b[0m \u001b[0;34m=\u001b[0m \u001b[0mscaler\u001b[0m\u001b[0;34m.\u001b[0m\u001b[0mtransform\u001b[0m\u001b[0;34m(\u001b[0m\u001b[0mdf\u001b[0m\u001b[0;34m[\u001b[0m\u001b[0mreal_features_names\u001b[0m\u001b[0;34m]\u001b[0m\u001b[0;34m)\u001b[0m\u001b[0;34m\u001b[0m\u001b[0m\n\u001b[1;32m      9\u001b[0m     \u001b[0;32melse\u001b[0m\u001b[0;34m:\u001b[0m\u001b[0;34m\u001b[0m\u001b[0m\n",
      "\u001b[0;32m/anaconda3/lib/python3.6/site-packages/sklearn/preprocessing/data.py\u001b[0m in \u001b[0;36mfit\u001b[0;34m(self, X, y)\u001b[0m\n\u001b[1;32m    588\u001b[0m         \u001b[0;31m# Reset internal state before fitting\u001b[0m\u001b[0;34m\u001b[0m\u001b[0;34m\u001b[0m\u001b[0m\n\u001b[1;32m    589\u001b[0m         \u001b[0mself\u001b[0m\u001b[0;34m.\u001b[0m\u001b[0m_reset\u001b[0m\u001b[0;34m(\u001b[0m\u001b[0;34m)\u001b[0m\u001b[0;34m\u001b[0m\u001b[0m\n\u001b[0;32m--> 590\u001b[0;31m         \u001b[0;32mreturn\u001b[0m \u001b[0mself\u001b[0m\u001b[0;34m.\u001b[0m\u001b[0mpartial_fit\u001b[0m\u001b[0;34m(\u001b[0m\u001b[0mX\u001b[0m\u001b[0;34m,\u001b[0m \u001b[0my\u001b[0m\u001b[0;34m)\u001b[0m\u001b[0;34m\u001b[0m\u001b[0m\n\u001b[0m\u001b[1;32m    591\u001b[0m \u001b[0;34m\u001b[0m\u001b[0m\n\u001b[1;32m    592\u001b[0m     \u001b[0;32mdef\u001b[0m \u001b[0mpartial_fit\u001b[0m\u001b[0;34m(\u001b[0m\u001b[0mself\u001b[0m\u001b[0;34m,\u001b[0m \u001b[0mX\u001b[0m\u001b[0;34m,\u001b[0m \u001b[0my\u001b[0m\u001b[0;34m=\u001b[0m\u001b[0;32mNone\u001b[0m\u001b[0;34m)\u001b[0m\u001b[0;34m:\u001b[0m\u001b[0;34m\u001b[0m\u001b[0m\n",
      "\u001b[0;32m/anaconda3/lib/python3.6/site-packages/sklearn/preprocessing/data.py\u001b[0m in \u001b[0;36mpartial_fit\u001b[0;34m(self, X, y)\u001b[0m\n\u001b[1;32m    610\u001b[0m         \"\"\"\n\u001b[1;32m    611\u001b[0m         X = check_array(X, accept_sparse=('csr', 'csc'), copy=self.copy,\n\u001b[0;32m--> 612\u001b[0;31m                         warn_on_dtype=True, estimator=self, dtype=FLOAT_DTYPES)\n\u001b[0m\u001b[1;32m    613\u001b[0m \u001b[0;34m\u001b[0m\u001b[0m\n\u001b[1;32m    614\u001b[0m         \u001b[0;31m# Even in the case of `with_mean=False`, we update the mean anyway\u001b[0m\u001b[0;34m\u001b[0m\u001b[0;34m\u001b[0m\u001b[0m\n",
      "\u001b[0;32m/anaconda3/lib/python3.6/site-packages/sklearn/utils/validation.py\u001b[0m in \u001b[0;36mcheck_array\u001b[0;34m(array, accept_sparse, dtype, order, copy, force_all_finite, ensure_2d, allow_nd, ensure_min_samples, ensure_min_features, warn_on_dtype, estimator)\u001b[0m\n\u001b[1;32m    431\u001b[0m                                       force_all_finite)\n\u001b[1;32m    432\u001b[0m     \u001b[0;32melse\u001b[0m\u001b[0;34m:\u001b[0m\u001b[0;34m\u001b[0m\u001b[0m\n\u001b[0;32m--> 433\u001b[0;31m         \u001b[0marray\u001b[0m \u001b[0;34m=\u001b[0m \u001b[0mnp\u001b[0m\u001b[0;34m.\u001b[0m\u001b[0marray\u001b[0m\u001b[0;34m(\u001b[0m\u001b[0marray\u001b[0m\u001b[0;34m,\u001b[0m \u001b[0mdtype\u001b[0m\u001b[0;34m=\u001b[0m\u001b[0mdtype\u001b[0m\u001b[0;34m,\u001b[0m \u001b[0morder\u001b[0m\u001b[0;34m=\u001b[0m\u001b[0morder\u001b[0m\u001b[0;34m,\u001b[0m \u001b[0mcopy\u001b[0m\u001b[0;34m=\u001b[0m\u001b[0mcopy\u001b[0m\u001b[0;34m)\u001b[0m\u001b[0;34m\u001b[0m\u001b[0m\n\u001b[0m\u001b[1;32m    434\u001b[0m \u001b[0;34m\u001b[0m\u001b[0m\n\u001b[1;32m    435\u001b[0m         \u001b[0;32mif\u001b[0m \u001b[0mensure_2d\u001b[0m\u001b[0;34m:\u001b[0m\u001b[0;34m\u001b[0m\u001b[0m\n",
      "\u001b[0;31mValueError\u001b[0m: could not convert string to float: '[1-100]'"
     ]
    }
   ],
   "source": [
    "real_features = ['bus_age', 'ogrn_age', 'head_actual_age',\n",
    "                 'ul_capital_sum', 'ul_founders_cnt','ul_staff_range']\n",
    "categ_features = ['ul_staff_range','ul_strategic_flg','ul_branch_cnt']\n",
    "try_df, scaler = get_dataset(features_df,real_features,categ_features)\n",
    "X_train, X_test, y_train, y_test = train_test_split(try_df.drop('default_12m',axis=1),\n",
    "                                                    try_df['default_12m'],\n",
    "                                                    random_state=42, shuffle=True)\n",
    "\n",
    "logit = LogisticRegression(C=1,solver='lbfgs',max_iter=1000)\n",
    "cv_baseline = cross_val_score(logit, X_train, y_train, cv=5, scoring='roc_auc').mean()\n",
    "cv_baseline"
   ]
  },
  {
   "cell_type": "code",
   "execution_count": 18,
   "metadata": {},
   "outputs": [
    {
     "ename": "NameError",
     "evalue": "name 'logit' is not defined",
     "output_type": "error",
     "traceback": [
      "\u001b[0;31m---------------------------------------------------------------------------\u001b[0m",
      "\u001b[0;31mNameError\u001b[0m                                 Traceback (most recent call last)",
      "\u001b[0;32m<ipython-input-18-c43fd4b23a82>\u001b[0m in \u001b[0;36m<module>\u001b[0;34m()\u001b[0m\n\u001b[0;32m----> 1\u001b[0;31m \u001b[0mlogit\u001b[0m\u001b[0;34m.\u001b[0m\u001b[0mfit\u001b[0m\u001b[0;34m(\u001b[0m\u001b[0mX_train\u001b[0m\u001b[0;34m,\u001b[0m\u001b[0my_train\u001b[0m\u001b[0;34m)\u001b[0m\u001b[0;34m\u001b[0m\u001b[0m\n\u001b[0m",
      "\u001b[0;31mNameError\u001b[0m: name 'logit' is not defined"
     ]
    }
   ],
   "source": [
    "logit.fit(X_train,y_train)"
   ]
  },
  {
   "cell_type": "code",
   "execution_count": null,
   "metadata": {
    "collapsed": true
   },
   "outputs": [],
   "source": []
  }
 ],
 "metadata": {
  "kernelspec": {
   "display_name": "Python 3",
   "language": "python",
   "name": "python3"
  },
  "language_info": {
   "codemirror_mode": {
    "name": "ipython",
    "version": 3
   },
   "file_extension": ".py",
   "mimetype": "text/x-python",
   "name": "python",
   "nbconvert_exporter": "python",
   "pygments_lexer": "ipython3",
   "version": "3.6.3"
  }
 },
 "nbformat": 4,
 "nbformat_minor": 2
}
