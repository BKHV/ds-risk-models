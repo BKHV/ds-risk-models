{
 "cells": [
  {
   "cell_type": "markdown",
   "metadata": {},
   "source": [
    "# Задание для DS по разработке LGD модели"
   ]
  },
  {
   "cell_type": "markdown",
   "metadata": {},
   "source": [
    "### Импортируем библиотеки"
   ]
  },
  {
   "cell_type": "code",
   "execution_count": 1,
   "metadata": {
    "collapsed": true
   },
   "outputs": [],
   "source": [
    "import pandas as pd"
   ]
  },
  {
   "cell_type": "markdown",
   "metadata": {},
   "source": [
    "### Подгружаем данные"
   ]
  },
  {
   "cell_type": "code",
   "execution_count": 2,
   "metadata": {},
   "outputs": [
    {
     "name": "stdout",
     "output_type": "stream",
     "text": [
      "/bin/sh: wget: command not found\r\n"
     ]
    }
   ],
   "source": [
    "!wget https://raw.githubusercontent.com/BKHV/ds-test/master/LGD-data.csv"
   ]
  },
  {
   "cell_type": "code",
   "execution_count": 6,
   "metadata": {},
   "outputs": [],
   "source": [
    "df = pd.read_csv('LGD-data.csv', sep=';')"
   ]
  },
  {
   "cell_type": "markdown",
   "metadata": {},
   "source": [
    "Размер выборки"
   ]
  },
  {
   "cell_type": "code",
   "execution_count": 7,
   "metadata": {},
   "outputs": [
    {
     "name": "stdout",
     "output_type": "stream",
     "text": [
      "(3047, 53)\n"
     ]
    }
   ],
   "source": [
    "print(df.shape)"
   ]
  },
  {
   "cell_type": "code",
   "execution_count": 8,
   "metadata": {},
   "outputs": [
    {
     "data": {
      "text/html": [
       "<div>\n",
       "<style scoped>\n",
       "    .dataframe tbody tr th:only-of-type {\n",
       "        vertical-align: middle;\n",
       "    }\n",
       "\n",
       "    .dataframe tbody tr th {\n",
       "        vertical-align: top;\n",
       "    }\n",
       "\n",
       "    .dataframe thead th {\n",
       "        text-align: right;\n",
       "    }\n",
       "</style>\n",
       "<table border=\"1\" class=\"dataframe\">\n",
       "  <thead>\n",
       "    <tr style=\"text-align: right;\">\n",
       "      <th></th>\n",
       "      <th>symbol</th>\n",
       "      <th>name</th>\n",
       "      <th>issue_date</th>\n",
       "      <th>EPS</th>\n",
       "      <th>QuoteLast</th>\n",
       "      <th>Price200DayAverage</th>\n",
       "      <th>Price52WeekPercChange</th>\n",
       "      <th>PriceToBook</th>\n",
       "      <th>MarketCap</th>\n",
       "      <th>PE</th>\n",
       "      <th>...</th>\n",
       "      <th>OperatingMargin</th>\n",
       "      <th>NetProfitMarginPercent</th>\n",
       "      <th>NetIncomeGrowthRate5Years</th>\n",
       "      <th>RevenueGrowthRate5Years</th>\n",
       "      <th>RevenueGrowthRate10Years</th>\n",
       "      <th>EPSGrowthRate5Years</th>\n",
       "      <th>EPSGrowthRate10Years</th>\n",
       "      <th>Volume</th>\n",
       "      <th>AverageVolume</th>\n",
       "      <th>LGD</th>\n",
       "    </tr>\n",
       "  </thead>\n",
       "  <tbody>\n",
       "    <tr>\n",
       "      <th>0</th>\n",
       "      <td>1AD</td>\n",
       "      <td>Adalta Ltd</td>\n",
       "      <td>31/10/2015</td>\n",
       "      <td>0</td>\n",
       "      <td>0,25</td>\n",
       "      <td>0</td>\n",
       "      <td>0</td>\n",
       "      <td>0</td>\n",
       "      <td>18720000</td>\n",
       "      <td>0</td>\n",
       "      <td>...</td>\n",
       "      <td>0</td>\n",
       "      <td>0</td>\n",
       "      <td>0</td>\n",
       "      <td>0</td>\n",
       "      <td>0</td>\n",
       "      <td>0</td>\n",
       "      <td>0</td>\n",
       "      <td>0</td>\n",
       "      <td>50513</td>\n",
       "      <td>0,932171</td>\n",
       "    </tr>\n",
       "    <tr>\n",
       "      <th>1</th>\n",
       "      <td>1AG</td>\n",
       "      <td>Alterra Ltd</td>\n",
       "      <td>31/12/2015</td>\n",
       "      <td>0</td>\n",
       "      <td>0,03</td>\n",
       "      <td>0,05</td>\n",
       "      <td>78,62</td>\n",
       "      <td>0,34</td>\n",
       "      <td>4270000</td>\n",
       "      <td>0</td>\n",
       "      <td>...</td>\n",
       "      <td>9,77</td>\n",
       "      <td>6,3</td>\n",
       "      <td>0</td>\n",
       "      <td>0</td>\n",
       "      <td>0</td>\n",
       "      <td>0</td>\n",
       "      <td>0</td>\n",
       "      <td>229789</td>\n",
       "      <td>106383</td>\n",
       "      <td>0,92142</td>\n",
       "    </tr>\n",
       "    <tr>\n",
       "      <th>2</th>\n",
       "      <td>1AL</td>\n",
       "      <td>Oneall International Ltd</td>\n",
       "      <td>31/07/2010</td>\n",
       "      <td>0,09</td>\n",
       "      <td>0,99</td>\n",
       "      <td>0,97</td>\n",
       "      <td>1,5</td>\n",
       "      <td>5,66</td>\n",
       "      <td>127070000</td>\n",
       "      <td>10,81</td>\n",
       "      <td>...</td>\n",
       "      <td>27,36</td>\n",
       "      <td>22,56</td>\n",
       "      <td>0</td>\n",
       "      <td>0</td>\n",
       "      <td>0</td>\n",
       "      <td>0</td>\n",
       "      <td>0</td>\n",
       "      <td>14300</td>\n",
       "      <td>9904</td>\n",
       "      <td>0,996325</td>\n",
       "    </tr>\n",
       "    <tr>\n",
       "      <th>3</th>\n",
       "      <td>1PG</td>\n",
       "      <td>1-Page Ltd</td>\n",
       "      <td>29/02/2012</td>\n",
       "      <td>0,13</td>\n",
       "      <td>0,19</td>\n",
       "      <td>0,38</td>\n",
       "      <td>94,31</td>\n",
       "      <td>0,45</td>\n",
       "      <td>29300000</td>\n",
       "      <td>0</td>\n",
       "      <td>...</td>\n",
       "      <td>1486,59</td>\n",
       "      <td>1519,24</td>\n",
       "      <td>0</td>\n",
       "      <td>0</td>\n",
       "      <td>0</td>\n",
       "      <td>0</td>\n",
       "      <td>0</td>\n",
       "      <td>415620</td>\n",
       "      <td>1450000</td>\n",
       "      <td>0,979607</td>\n",
       "    </tr>\n",
       "    <tr>\n",
       "      <th>4</th>\n",
       "      <td>1ST</td>\n",
       "      <td>1st Group Ltd</td>\n",
       "      <td>31/10/2012</td>\n",
       "      <td>0,06</td>\n",
       "      <td>0,05</td>\n",
       "      <td>0,06</td>\n",
       "      <td>14,15</td>\n",
       "      <td>0,92</td>\n",
       "      <td>10530000</td>\n",
       "      <td>0</td>\n",
       "      <td>...</td>\n",
       "      <td>281,56</td>\n",
       "      <td>252,4</td>\n",
       "      <td>0</td>\n",
       "      <td>0</td>\n",
       "      <td>0</td>\n",
       "      <td>0</td>\n",
       "      <td>0</td>\n",
       "      <td>100000</td>\n",
       "      <td>36233</td>\n",
       "      <td>0,71973</td>\n",
       "    </tr>\n",
       "  </tbody>\n",
       "</table>\n",
       "<p>5 rows × 53 columns</p>\n",
       "</div>"
      ],
      "text/plain": [
       "  symbol                      name  issue_date   EPS QuoteLast  \\\n",
       "0    1AD                Adalta Ltd  31/10/2015     0      0,25   \n",
       "1    1AG               Alterra Ltd  31/12/2015     0      0,03   \n",
       "2    1AL  Oneall International Ltd  31/07/2010  0,09      0,99   \n",
       "3    1PG                1-Page Ltd  29/02/2012  0,13      0,19   \n",
       "4    1ST             1st Group Ltd  31/10/2012  0,06      0,05   \n",
       "\n",
       "  Price200DayAverage Price52WeekPercChange PriceToBook  MarketCap     PE  \\\n",
       "0                  0                     0           0   18720000      0   \n",
       "1               0,05                 78,62        0,34    4270000      0   \n",
       "2               0,97                   1,5        5,66  127070000  10,81   \n",
       "3               0,38                 94,31        0,45   29300000      0   \n",
       "4               0,06                 14,15        0,92   10530000      0   \n",
       "\n",
       "     ...    OperatingMargin NetProfitMarginPercent NetIncomeGrowthRate5Years  \\\n",
       "0    ...                  0                      0                         0   \n",
       "1    ...               9,77                    6,3                         0   \n",
       "2    ...              27,36                  22,56                         0   \n",
       "3    ...            1486,59                1519,24                         0   \n",
       "4    ...             281,56                  252,4                         0   \n",
       "\n",
       "  RevenueGrowthRate5Years RevenueGrowthRate10Years EPSGrowthRate5Years  \\\n",
       "0                       0                        0                   0   \n",
       "1                       0                        0                   0   \n",
       "2                       0                        0                   0   \n",
       "3                       0                        0                   0   \n",
       "4                       0                        0                   0   \n",
       "\n",
       "  EPSGrowthRate10Years  Volume AverageVolume       LGD  \n",
       "0                    0       0         50513  0,932171  \n",
       "1                    0  229789        106383   0,92142  \n",
       "2                    0   14300          9904  0,996325  \n",
       "3                    0  415620       1450000  0,979607  \n",
       "4                    0  100000         36233   0,71973  \n",
       "\n",
       "[5 rows x 53 columns]"
      ]
     },
     "execution_count": 8,
     "metadata": {},
     "output_type": "execute_result"
    }
   ],
   "source": [
    "df.head(5)"
   ]
  },
  {
   "cell_type": "code",
   "execution_count": null,
   "metadata": {
    "collapsed": true
   },
   "outputs": [],
   "source": []
  }
 ],
 "metadata": {
  "kernelspec": {
   "display_name": "Python 3",
   "language": "python",
   "name": "python3"
  },
  "language_info": {
   "codemirror_mode": {
    "name": "ipython",
    "version": 3
   },
   "file_extension": ".py",
   "mimetype": "text/x-python",
   "name": "python",
   "nbconvert_exporter": "python",
   "pygments_lexer": "ipython3",
   "version": "3.6.3"
  }
 },
 "nbformat": 4,
 "nbformat_minor": 2
}
