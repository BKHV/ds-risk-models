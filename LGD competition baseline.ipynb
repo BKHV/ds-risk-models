{
  "nbformat": 4,
  "nbformat_minor": 0,
  "metadata": {
    "colab": {
      "name": "LGD_competition_baseline.ipynb",
      "provenance": [],
      "collapsed_sections": [],
      "toc_visible": true,
      "include_colab_link": true
    },
    "kernelspec": {
      "display_name": "Python 3",
      "language": "python",
      "name": "python3"
    },
    "language_info": {
      "codemirror_mode": {
        "name": "ipython",
        "version": 3
      },
      "file_extension": ".py",
      "mimetype": "text/x-python",
      "name": "python",
      "nbconvert_exporter": "python",
      "pygments_lexer": "ipython3",
      "version": "3.7.6"
    }
  },
  "cells": [
    {
      "cell_type": "markdown",
      "metadata": {
        "id": "view-in-github",
        "colab_type": "text"
      },
      "source": [
        "<a href=\"https://colab.research.google.com/github/BKHV/risk_models/blob/master/LGD%20competition%20baseline.ipynb\" target=\"_parent\"><img src=\"https://colab.research.google.com/assets/colab-badge.svg\" alt=\"Open In Colab\"/></a>"
      ]
    },
    {
      "cell_type": "markdown",
      "metadata": {
        "id": "5zQ8Pf7sPzIc"
      },
      "source": [
        "# Бэйзлайн по разработке LGD модели\n",
        "Loss given default (LGD) объем активов Банка, который будет утерян в случае дефолта клиента, вычисляется как доля от задолженности на момент дефолта. Для задания подготовлен ситнетический набор данных"
      ]
    },
    {
      "cell_type": "markdown",
      "metadata": {
        "id": "2GuoxVlLP4o9"
      },
      "source": [
        "### Импортируем библиотеки"
      ]
    },
    {
      "cell_type": "code",
      "metadata": {
        "id": "XpUhnCdpPqea"
      },
      "source": [
        "import pandas as pd\n",
        "import numpy as np\n",
        "from sklearn.externals.six import StringIO\n",
        "from IPython.display import Image  \n",
        "from sklearn.tree import export_graphviz\n",
        "import pydotplus\n",
        "from math import log\n",
        "import matplotlib.pyplot as plt\n",
        "from sklearn.metrics import mean_absolute_error\n",
        "from sklearn.linear_model import LinearRegression"
      ],
      "execution_count": 11,
      "outputs": []
    },
    {
      "cell_type": "markdown",
      "metadata": {
        "id": "R6nNN6vFP3MJ"
      },
      "source": [
        "### Подгружаем данные"
      ]
    },
    {
      "cell_type": "code",
      "metadata": {
        "id": "-Irzu_hYPw21",
        "colab": {
          "base_uri": "https://localhost:8080/"
        },
        "outputId": "44f4ac40-d294-4f5b-e7fe-225e09710303"
      },
      "source": [
        "!wget https://raw.githubusercontent.com/BKHV/risk_models/master/data/LGD-data-train.csv\n",
        "!wget https://raw.githubusercontent.com/BKHV/risk_models/master/data/LGD-data-test.csv"
      ],
      "execution_count": 19,
      "outputs": [
        {
          "output_type": "stream",
          "text": [
            "--2021-03-10 17:38:20--  https://raw.githubusercontent.com/BKHV/risk_models/master/data/LGD-data-train.csv\n",
            "Resolving raw.githubusercontent.com (raw.githubusercontent.com)... 185.199.108.133, 185.199.109.133, 185.199.110.133, ...\n",
            "Connecting to raw.githubusercontent.com (raw.githubusercontent.com)|185.199.108.133|:443... connected.\n",
            "HTTP request sent, awaiting response... 200 OK\n",
            "Length: 411713 (402K) [text/plain]\n",
            "Saving to: ‘LGD-data-train.csv’\n",
            "\n",
            "\rLGD-data-train.csv    0%[                    ]       0  --.-KB/s               \rLGD-data-train.csv  100%[===================>] 402.06K  --.-KB/s    in 0.03s   \n",
            "\n",
            "2021-03-10 17:38:20 (13.0 MB/s) - ‘LGD-data-train.csv’ saved [411713/411713]\n",
            "\n",
            "--2021-03-10 17:38:20--  https://raw.githubusercontent.com/BKHV/risk_models/master/data/LGD-data-test.csv\n",
            "Resolving raw.githubusercontent.com (raw.githubusercontent.com)... 185.199.109.133, 185.199.110.133, 185.199.108.133, ...\n",
            "Connecting to raw.githubusercontent.com (raw.githubusercontent.com)|185.199.109.133|:443... connected.\n",
            "HTTP request sent, awaiting response... 200 OK\n",
            "Length: 275020 (269K) [text/plain]\n",
            "Saving to: ‘LGD-data-test.csv.4’\n",
            "\n",
            "LGD-data-test.csv.4 100%[===================>] 268.57K  --.-KB/s    in 0.02s   \n",
            "\n",
            "2021-03-10 17:38:20 (12.4 MB/s) - ‘LGD-data-test.csv.4’ saved [275020/275020]\n",
            "\n"
          ],
          "name": "stdout"
        }
      ]
    },
    {
      "cell_type": "code",
      "metadata": {
        "id": "zW0cXWDLZ3NH",
        "outputId": "aa13f090-f934-42c0-8d99-55ffa7e6fd5e",
        "colab": {
          "base_uri": "https://localhost:8080/",
          "height": 494
        }
      },
      "source": [
        "train_df = pd.read_csv('LGD-data-train.csv')\n",
        "test_df = pd.read_csv('LGD-data-test.csv')"
      ],
      "execution_count": 20,
      "outputs": [
        {
          "output_type": "error",
          "ename": "ParserError",
          "evalue": "ignored",
          "traceback": [
            "\u001b[0;31m---------------------------------------------------------------------------\u001b[0m",
            "\u001b[0;31mParserError\u001b[0m                               Traceback (most recent call last)",
            "\u001b[0;32m<ipython-input-20-b0422423e114>\u001b[0m in \u001b[0;36m<module>\u001b[0;34m()\u001b[0m\n\u001b[0;32m----> 1\u001b[0;31m \u001b[0mtrain_df\u001b[0m \u001b[0;34m=\u001b[0m \u001b[0mpd\u001b[0m\u001b[0;34m.\u001b[0m\u001b[0mread_csv\u001b[0m\u001b[0;34m(\u001b[0m\u001b[0;34m'LGD-data-train.csv'\u001b[0m\u001b[0;34m)\u001b[0m\u001b[0;34m\u001b[0m\u001b[0;34m\u001b[0m\u001b[0m\n\u001b[0m\u001b[1;32m      2\u001b[0m \u001b[0mtest_df\u001b[0m \u001b[0;34m=\u001b[0m \u001b[0mpd\u001b[0m\u001b[0;34m.\u001b[0m\u001b[0mread_csv\u001b[0m\u001b[0;34m(\u001b[0m\u001b[0;34m'LGD-data-test.csv'\u001b[0m\u001b[0;34m)\u001b[0m\u001b[0;34m\u001b[0m\u001b[0;34m\u001b[0m\u001b[0m\n",
            "\u001b[0;32m/usr/local/lib/python3.7/dist-packages/pandas/io/parsers.py\u001b[0m in \u001b[0;36mread_csv\u001b[0;34m(filepath_or_buffer, sep, delimiter, header, names, index_col, usecols, squeeze, prefix, mangle_dupe_cols, dtype, engine, converters, true_values, false_values, skipinitialspace, skiprows, skipfooter, nrows, na_values, keep_default_na, na_filter, verbose, skip_blank_lines, parse_dates, infer_datetime_format, keep_date_col, date_parser, dayfirst, cache_dates, iterator, chunksize, compression, thousands, decimal, lineterminator, quotechar, quoting, doublequote, escapechar, comment, encoding, dialect, error_bad_lines, warn_bad_lines, delim_whitespace, low_memory, memory_map, float_precision)\u001b[0m\n\u001b[1;32m    686\u001b[0m     )\n\u001b[1;32m    687\u001b[0m \u001b[0;34m\u001b[0m\u001b[0m\n\u001b[0;32m--> 688\u001b[0;31m     \u001b[0;32mreturn\u001b[0m \u001b[0m_read\u001b[0m\u001b[0;34m(\u001b[0m\u001b[0mfilepath_or_buffer\u001b[0m\u001b[0;34m,\u001b[0m \u001b[0mkwds\u001b[0m\u001b[0;34m)\u001b[0m\u001b[0;34m\u001b[0m\u001b[0;34m\u001b[0m\u001b[0m\n\u001b[0m\u001b[1;32m    689\u001b[0m \u001b[0;34m\u001b[0m\u001b[0m\n\u001b[1;32m    690\u001b[0m \u001b[0;34m\u001b[0m\u001b[0m\n",
            "\u001b[0;32m/usr/local/lib/python3.7/dist-packages/pandas/io/parsers.py\u001b[0m in \u001b[0;36m_read\u001b[0;34m(filepath_or_buffer, kwds)\u001b[0m\n\u001b[1;32m    458\u001b[0m \u001b[0;34m\u001b[0m\u001b[0m\n\u001b[1;32m    459\u001b[0m     \u001b[0;32mtry\u001b[0m\u001b[0;34m:\u001b[0m\u001b[0;34m\u001b[0m\u001b[0;34m\u001b[0m\u001b[0m\n\u001b[0;32m--> 460\u001b[0;31m         \u001b[0mdata\u001b[0m \u001b[0;34m=\u001b[0m \u001b[0mparser\u001b[0m\u001b[0;34m.\u001b[0m\u001b[0mread\u001b[0m\u001b[0;34m(\u001b[0m\u001b[0mnrows\u001b[0m\u001b[0;34m)\u001b[0m\u001b[0;34m\u001b[0m\u001b[0;34m\u001b[0m\u001b[0m\n\u001b[0m\u001b[1;32m    461\u001b[0m     \u001b[0;32mfinally\u001b[0m\u001b[0;34m:\u001b[0m\u001b[0;34m\u001b[0m\u001b[0;34m\u001b[0m\u001b[0m\n\u001b[1;32m    462\u001b[0m         \u001b[0mparser\u001b[0m\u001b[0;34m.\u001b[0m\u001b[0mclose\u001b[0m\u001b[0;34m(\u001b[0m\u001b[0;34m)\u001b[0m\u001b[0;34m\u001b[0m\u001b[0;34m\u001b[0m\u001b[0m\n",
            "\u001b[0;32m/usr/local/lib/python3.7/dist-packages/pandas/io/parsers.py\u001b[0m in \u001b[0;36mread\u001b[0;34m(self, nrows)\u001b[0m\n\u001b[1;32m   1196\u001b[0m     \u001b[0;32mdef\u001b[0m \u001b[0mread\u001b[0m\u001b[0;34m(\u001b[0m\u001b[0mself\u001b[0m\u001b[0;34m,\u001b[0m \u001b[0mnrows\u001b[0m\u001b[0;34m=\u001b[0m\u001b[0;32mNone\u001b[0m\u001b[0;34m)\u001b[0m\u001b[0;34m:\u001b[0m\u001b[0;34m\u001b[0m\u001b[0;34m\u001b[0m\u001b[0m\n\u001b[1;32m   1197\u001b[0m         \u001b[0mnrows\u001b[0m \u001b[0;34m=\u001b[0m \u001b[0m_validate_integer\u001b[0m\u001b[0;34m(\u001b[0m\u001b[0;34m\"nrows\"\u001b[0m\u001b[0;34m,\u001b[0m \u001b[0mnrows\u001b[0m\u001b[0;34m)\u001b[0m\u001b[0;34m\u001b[0m\u001b[0;34m\u001b[0m\u001b[0m\n\u001b[0;32m-> 1198\u001b[0;31m         \u001b[0mret\u001b[0m \u001b[0;34m=\u001b[0m \u001b[0mself\u001b[0m\u001b[0;34m.\u001b[0m\u001b[0m_engine\u001b[0m\u001b[0;34m.\u001b[0m\u001b[0mread\u001b[0m\u001b[0;34m(\u001b[0m\u001b[0mnrows\u001b[0m\u001b[0;34m)\u001b[0m\u001b[0;34m\u001b[0m\u001b[0;34m\u001b[0m\u001b[0m\n\u001b[0m\u001b[1;32m   1199\u001b[0m \u001b[0;34m\u001b[0m\u001b[0m\n\u001b[1;32m   1200\u001b[0m         \u001b[0;31m# May alter columns / col_dict\u001b[0m\u001b[0;34m\u001b[0m\u001b[0;34m\u001b[0m\u001b[0;34m\u001b[0m\u001b[0m\n",
            "\u001b[0;32m/usr/local/lib/python3.7/dist-packages/pandas/io/parsers.py\u001b[0m in \u001b[0;36mread\u001b[0;34m(self, nrows)\u001b[0m\n\u001b[1;32m   2155\u001b[0m     \u001b[0;32mdef\u001b[0m \u001b[0mread\u001b[0m\u001b[0;34m(\u001b[0m\u001b[0mself\u001b[0m\u001b[0;34m,\u001b[0m \u001b[0mnrows\u001b[0m\u001b[0;34m=\u001b[0m\u001b[0;32mNone\u001b[0m\u001b[0;34m)\u001b[0m\u001b[0;34m:\u001b[0m\u001b[0;34m\u001b[0m\u001b[0;34m\u001b[0m\u001b[0m\n\u001b[1;32m   2156\u001b[0m         \u001b[0;32mtry\u001b[0m\u001b[0;34m:\u001b[0m\u001b[0;34m\u001b[0m\u001b[0;34m\u001b[0m\u001b[0m\n\u001b[0;32m-> 2157\u001b[0;31m             \u001b[0mdata\u001b[0m \u001b[0;34m=\u001b[0m \u001b[0mself\u001b[0m\u001b[0;34m.\u001b[0m\u001b[0m_reader\u001b[0m\u001b[0;34m.\u001b[0m\u001b[0mread\u001b[0m\u001b[0;34m(\u001b[0m\u001b[0mnrows\u001b[0m\u001b[0;34m)\u001b[0m\u001b[0;34m\u001b[0m\u001b[0;34m\u001b[0m\u001b[0m\n\u001b[0m\u001b[1;32m   2158\u001b[0m         \u001b[0;32mexcept\u001b[0m \u001b[0mStopIteration\u001b[0m\u001b[0;34m:\u001b[0m\u001b[0;34m\u001b[0m\u001b[0;34m\u001b[0m\u001b[0m\n\u001b[1;32m   2159\u001b[0m             \u001b[0;32mif\u001b[0m \u001b[0mself\u001b[0m\u001b[0;34m.\u001b[0m\u001b[0m_first_chunk\u001b[0m\u001b[0;34m:\u001b[0m\u001b[0;34m\u001b[0m\u001b[0;34m\u001b[0m\u001b[0m\n",
            "\u001b[0;32mpandas/_libs/parsers.pyx\u001b[0m in \u001b[0;36mpandas._libs.parsers.TextReader.read\u001b[0;34m()\u001b[0m\n",
            "\u001b[0;32mpandas/_libs/parsers.pyx\u001b[0m in \u001b[0;36mpandas._libs.parsers.TextReader._read_low_memory\u001b[0;34m()\u001b[0m\n",
            "\u001b[0;32mpandas/_libs/parsers.pyx\u001b[0m in \u001b[0;36mpandas._libs.parsers.TextReader._read_rows\u001b[0;34m()\u001b[0m\n",
            "\u001b[0;32mpandas/_libs/parsers.pyx\u001b[0m in \u001b[0;36mpandas._libs.parsers.TextReader._tokenize_rows\u001b[0;34m()\u001b[0m\n",
            "\u001b[0;32mpandas/_libs/parsers.pyx\u001b[0m in \u001b[0;36mpandas._libs.parsers.raise_parser_error\u001b[0;34m()\u001b[0m\n",
            "\u001b[0;31mParserError\u001b[0m: Error tokenizing data. C error: Expected 1 fields in line 423, saw 2\n"
          ]
        }
      ]
    },
    {
      "cell_type": "code",
      "metadata": {
        "colab": {
          "base_uri": "https://localhost:8080/",
          "height": 360
        },
        "id": "nWvC2SDBQP9J",
        "outputId": "48405b42-50f1-4ba2-e822-297c5561bac4"
      },
      "source": [
        "train_df.head()"
      ],
      "execution_count": null,
      "outputs": [
        {
          "output_type": "execute_result",
          "data": {
            "text/html": [
              "<div>\n",
              "<style scoped>\n",
              "    .dataframe tbody tr th:only-of-type {\n",
              "        vertical-align: middle;\n",
              "    }\n",
              "\n",
              "    .dataframe tbody tr th {\n",
              "        vertical-align: top;\n",
              "    }\n",
              "\n",
              "    .dataframe thead th {\n",
              "        text-align: right;\n",
              "    }\n",
              "</style>\n",
              "<table border=\"1\" class=\"dataframe\">\n",
              "  <thead>\n",
              "    <tr style=\"text-align: right;\">\n",
              "      <th></th>\n",
              "      <th>symbol</th>\n",
              "      <th>name</th>\n",
              "      <th>issue_date</th>\n",
              "      <th>EPS</th>\n",
              "      <th>QuoteLast</th>\n",
              "      <th>Price200DayAverage</th>\n",
              "      <th>Price52WeekPercChange</th>\n",
              "      <th>PriceToBook</th>\n",
              "      <th>MarketCap</th>\n",
              "      <th>PE</th>\n",
              "      <th>DividendRecentQuarter</th>\n",
              "      <th>DividendNextQuarter</th>\n",
              "      <th>DPSRecentYear</th>\n",
              "      <th>IAD</th>\n",
              "      <th>DividendPerShare</th>\n",
              "      <th>DividendYield</th>\n",
              "      <th>Dividend</th>\n",
              "      <th>BookValuePerShareYear</th>\n",
              "      <th>CashPerShareYear</th>\n",
              "      <th>CurrentRatioYear</th>\n",
              "      <th>LTDebtToAssetsYear</th>\n",
              "      <th>LTDebtToAssetsQuarter</th>\n",
              "      <th>TotalDebtToAssetsYear</th>\n",
              "      <th>TotalDebtToAssetsQuarter</th>\n",
              "      <th>LTDebtToEquityYear</th>\n",
              "      <th>LTDebtToEquityQuarter</th>\n",
              "      <th>TotalDebtToEquityYear</th>\n",
              "      <th>TotalDebtToEquityQuarter</th>\n",
              "      <th>AINTCOV</th>\n",
              "      <th>ReturnOnInvestmentTTM</th>\n",
              "      <th>ReturnOnInvestment5Years</th>\n",
              "      <th>ReturnOnInvestmentYear</th>\n",
              "      <th>ReturnOnAssetsTTM</th>\n",
              "      <th>ReturnOnAssets5Years</th>\n",
              "      <th>ReturnOnAssetsYear</th>\n",
              "      <th>ReturnOnEquityTTM</th>\n",
              "      <th>ReturnOnEquity5Years</th>\n",
              "      <th>ReturnOnEquityYear</th>\n",
              "      <th>Beta</th>\n",
              "      <th>Float</th>\n",
              "      <th>InstitutionalPercentHeld</th>\n",
              "      <th>GrossMargin</th>\n",
              "      <th>EBITDMargin</th>\n",
              "      <th>OperatingMargin</th>\n",
              "      <th>NetProfitMarginPercent</th>\n",
              "      <th>NetIncomeGrowthRate5Years</th>\n",
              "      <th>RevenueGrowthRate5Years</th>\n",
              "      <th>RevenueGrowthRate10Years</th>\n",
              "      <th>EPSGrowthRate5Years</th>\n",
              "      <th>EPSGrowthRate10Years</th>\n",
              "      <th>Volume</th>\n",
              "      <th>AverageVolume</th>\n",
              "      <th>LGD</th>\n",
              "    </tr>\n",
              "  </thead>\n",
              "  <tbody>\n",
              "    <tr>\n",
              "      <th>0</th>\n",
              "      <td>GMI</td>\n",
              "      <td>Sandon Capital Investments Ltd</td>\n",
              "      <td>31/01/2010</td>\n",
              "      <td>0.03</td>\n",
              "      <td>0.00</td>\n",
              "      <td>0.88</td>\n",
              "      <td>14.62</td>\n",
              "      <td>1.04</td>\n",
              "      <td>0.0</td>\n",
              "      <td>0.00</td>\n",
              "      <td>0.03</td>\n",
              "      <td>0.03</td>\n",
              "      <td>0.05</td>\n",
              "      <td>0.05</td>\n",
              "      <td>0.05</td>\n",
              "      <td>5.10</td>\n",
              "      <td>2.02</td>\n",
              "      <td>0.95</td>\n",
              "      <td>0.96</td>\n",
              "      <td>52.05</td>\n",
              "      <td>0.0</td>\n",
              "      <td>0.0</td>\n",
              "      <td>0.00</td>\n",
              "      <td>0.00</td>\n",
              "      <td>0.0</td>\n",
              "      <td>0.0</td>\n",
              "      <td>0.0</td>\n",
              "      <td>0.0</td>\n",
              "      <td>0.00</td>\n",
              "      <td>5.69</td>\n",
              "      <td>0.36</td>\n",
              "      <td>5.69</td>\n",
              "      <td>5.62</td>\n",
              "      <td>0.35</td>\n",
              "      <td>5.62</td>\n",
              "      <td>5.77</td>\n",
              "      <td>0.37</td>\n",
              "      <td>5.77</td>\n",
              "      <td>0.00</td>\n",
              "      <td>37.18</td>\n",
              "      <td>0.0</td>\n",
              "      <td>66.57</td>\n",
              "      <td>64.05</td>\n",
              "      <td>64.05</td>\n",
              "      <td>47.54</td>\n",
              "      <td>13.43</td>\n",
              "      <td>21.43</td>\n",
              "      <td>14.09</td>\n",
              "      <td>16.63</td>\n",
              "      <td>7.25</td>\n",
              "      <td>0</td>\n",
              "      <td>52847</td>\n",
              "      <td>1.077790</td>\n",
              "    </tr>\n",
              "    <tr>\n",
              "      <th>1</th>\n",
              "      <td>SO4</td>\n",
              "      <td>Salt Lake Potash Ltd</td>\n",
              "      <td>31/12/2014</td>\n",
              "      <td>0.04</td>\n",
              "      <td>0.60</td>\n",
              "      <td>0.43</td>\n",
              "      <td>211.90</td>\n",
              "      <td>9.33</td>\n",
              "      <td>80400000.0</td>\n",
              "      <td>0.00</td>\n",
              "      <td>0.00</td>\n",
              "      <td>0.00</td>\n",
              "      <td>0.00</td>\n",
              "      <td>0.00</td>\n",
              "      <td>0.00</td>\n",
              "      <td>0.00</td>\n",
              "      <td>0.00</td>\n",
              "      <td>0.07</td>\n",
              "      <td>0.06</td>\n",
              "      <td>12.31</td>\n",
              "      <td>0.0</td>\n",
              "      <td>0.0</td>\n",
              "      <td>0.00</td>\n",
              "      <td>0.00</td>\n",
              "      <td>0.0</td>\n",
              "      <td>0.0</td>\n",
              "      <td>0.0</td>\n",
              "      <td>0.0</td>\n",
              "      <td>0.00</td>\n",
              "      <td>62.18</td>\n",
              "      <td>21.71</td>\n",
              "      <td>62.18</td>\n",
              "      <td>58.76</td>\n",
              "      <td>21.05</td>\n",
              "      <td>58.76</td>\n",
              "      <td>62.18</td>\n",
              "      <td>22.63</td>\n",
              "      <td>62.18</td>\n",
              "      <td>0.56</td>\n",
              "      <td>79.44</td>\n",
              "      <td>0.0</td>\n",
              "      <td>0.00</td>\n",
              "      <td>5965.13</td>\n",
              "      <td>6367.40</td>\n",
              "      <td>6367.42</td>\n",
              "      <td>0.00</td>\n",
              "      <td>38.36</td>\n",
              "      <td>0.00</td>\n",
              "      <td>0.00</td>\n",
              "      <td>0.00</td>\n",
              "      <td>436230</td>\n",
              "      <td>102084</td>\n",
              "      <td>1.048031</td>\n",
              "    </tr>\n",
              "    <tr>\n",
              "      <th>2</th>\n",
              "      <td>WRGN</td>\n",
              "      <td>WATER RES DEF</td>\n",
              "      <td>31/05/2011</td>\n",
              "      <td>0.00</td>\n",
              "      <td>0.00</td>\n",
              "      <td>0.00</td>\n",
              "      <td>0.00</td>\n",
              "      <td>0.00</td>\n",
              "      <td>0.0</td>\n",
              "      <td>0.00</td>\n",
              "      <td>0.00</td>\n",
              "      <td>0.00</td>\n",
              "      <td>0.00</td>\n",
              "      <td>0.00</td>\n",
              "      <td>0.00</td>\n",
              "      <td>0.00</td>\n",
              "      <td>0.00</td>\n",
              "      <td>0.00</td>\n",
              "      <td>0.00</td>\n",
              "      <td>0.00</td>\n",
              "      <td>0.0</td>\n",
              "      <td>0.0</td>\n",
              "      <td>0.00</td>\n",
              "      <td>0.00</td>\n",
              "      <td>0.0</td>\n",
              "      <td>0.0</td>\n",
              "      <td>0.0</td>\n",
              "      <td>0.0</td>\n",
              "      <td>0.00</td>\n",
              "      <td>0.00</td>\n",
              "      <td>0.00</td>\n",
              "      <td>0.00</td>\n",
              "      <td>0.00</td>\n",
              "      <td>0.00</td>\n",
              "      <td>0.00</td>\n",
              "      <td>0.00</td>\n",
              "      <td>0.00</td>\n",
              "      <td>0.00</td>\n",
              "      <td>0.00</td>\n",
              "      <td>0.00</td>\n",
              "      <td>0.0</td>\n",
              "      <td>0.00</td>\n",
              "      <td>0.00</td>\n",
              "      <td>0.00</td>\n",
              "      <td>0.00</td>\n",
              "      <td>0.00</td>\n",
              "      <td>0.00</td>\n",
              "      <td>0.00</td>\n",
              "      <td>0.00</td>\n",
              "      <td>0.00</td>\n",
              "      <td>0</td>\n",
              "      <td>0</td>\n",
              "      <td>0.392984</td>\n",
              "    </tr>\n",
              "    <tr>\n",
              "      <th>3</th>\n",
              "      <td>MUS</td>\n",
              "      <td>OGI Group Ltd</td>\n",
              "      <td>31/10/2013</td>\n",
              "      <td>0.00</td>\n",
              "      <td>0.06</td>\n",
              "      <td>0.00</td>\n",
              "      <td>0.00</td>\n",
              "      <td>0.00</td>\n",
              "      <td>12280000.0</td>\n",
              "      <td>0.00</td>\n",
              "      <td>0.00</td>\n",
              "      <td>0.00</td>\n",
              "      <td>0.00</td>\n",
              "      <td>0.00</td>\n",
              "      <td>0.00</td>\n",
              "      <td>0.00</td>\n",
              "      <td>0.00</td>\n",
              "      <td>0.00</td>\n",
              "      <td>0.00</td>\n",
              "      <td>0.68</td>\n",
              "      <td>0.0</td>\n",
              "      <td>0.0</td>\n",
              "      <td>55.35</td>\n",
              "      <td>55.35</td>\n",
              "      <td>0.0</td>\n",
              "      <td>0.0</td>\n",
              "      <td>0.0</td>\n",
              "      <td>0.0</td>\n",
              "      <td>5.21</td>\n",
              "      <td>26.88</td>\n",
              "      <td>47.22</td>\n",
              "      <td>26.88</td>\n",
              "      <td>18.97</td>\n",
              "      <td>34.85</td>\n",
              "      <td>18.97</td>\n",
              "      <td>28.89</td>\n",
              "      <td>50.62</td>\n",
              "      <td>28.89</td>\n",
              "      <td>0.00</td>\n",
              "      <td>132.22</td>\n",
              "      <td>0.0</td>\n",
              "      <td>31.90</td>\n",
              "      <td>113.48</td>\n",
              "      <td>242.22</td>\n",
              "      <td>242.22</td>\n",
              "      <td>0.00</td>\n",
              "      <td>30.79</td>\n",
              "      <td>2.31</td>\n",
              "      <td>0.00</td>\n",
              "      <td>0.00</td>\n",
              "      <td>152120000</td>\n",
              "      <td>8260000</td>\n",
              "      <td>0.834822</td>\n",
              "    </tr>\n",
              "    <tr>\n",
              "      <th>4</th>\n",
              "      <td>HFA</td>\n",
              "      <td>HFA Holdings Limited</td>\n",
              "      <td>31/01/2014</td>\n",
              "      <td>0.12</td>\n",
              "      <td>2.26</td>\n",
              "      <td>2.29</td>\n",
              "      <td>9.69</td>\n",
              "      <td>1.13</td>\n",
              "      <td>366450000.0</td>\n",
              "      <td>18.45</td>\n",
              "      <td>0.09</td>\n",
              "      <td>0.09</td>\n",
              "      <td>0.14</td>\n",
              "      <td>0.16</td>\n",
              "      <td>0.14</td>\n",
              "      <td>6.85</td>\n",
              "      <td>22.72</td>\n",
              "      <td>2.07</td>\n",
              "      <td>0.22</td>\n",
              "      <td>3.34</td>\n",
              "      <td>0.0</td>\n",
              "      <td>0.0</td>\n",
              "      <td>0.00</td>\n",
              "      <td>0.00</td>\n",
              "      <td>0.0</td>\n",
              "      <td>0.0</td>\n",
              "      <td>0.0</td>\n",
              "      <td>0.0</td>\n",
              "      <td>101.74</td>\n",
              "      <td>5.86</td>\n",
              "      <td>17.21</td>\n",
              "      <td>5.86</td>\n",
              "      <td>5.52</td>\n",
              "      <td>15.80</td>\n",
              "      <td>5.52</td>\n",
              "      <td>5.86</td>\n",
              "      <td>20.98</td>\n",
              "      <td>5.86</td>\n",
              "      <td>0.57</td>\n",
              "      <td>131.11</td>\n",
              "      <td>0.0</td>\n",
              "      <td>91.37</td>\n",
              "      <td>42.10</td>\n",
              "      <td>34.48</td>\n",
              "      <td>21.27</td>\n",
              "      <td>18.62</td>\n",
              "      <td>0.74</td>\n",
              "      <td>10.28</td>\n",
              "      <td>15.56</td>\n",
              "      <td>0.00</td>\n",
              "      <td>47426</td>\n",
              "      <td>85796</td>\n",
              "      <td>0.013493</td>\n",
              "    </tr>\n",
              "  </tbody>\n",
              "</table>\n",
              "</div>"
            ],
            "text/plain": [
              "  symbol                            name  ... AverageVolume       LGD\n",
              "0    GMI  Sandon Capital Investments Ltd  ...         52847  1.077790\n",
              "1    SO4            Salt Lake Potash Ltd  ...        102084  1.048031\n",
              "2   WRGN                   WATER RES DEF  ...             0  0.392984\n",
              "3    MUS                   OGI Group Ltd  ...       8260000  0.834822\n",
              "4    HFA            HFA Holdings Limited  ...         85796  0.013493\n",
              "\n",
              "[5 rows x 53 columns]"
            ]
          },
          "metadata": {
            "tags": []
          },
          "execution_count": 25
        }
      ]
    },
    {
      "cell_type": "code",
      "metadata": {
        "colab": {
          "base_uri": "https://localhost:8080/",
          "height": 394
        },
        "id": "-z6LWLFiQRJN",
        "outputId": "6f836f1d-c180-4f8e-fa08-39466ca80f09"
      },
      "source": [
        "test_df.head()"
      ],
      "execution_count": null,
      "outputs": [
        {
          "output_type": "execute_result",
          "data": {
            "text/html": [
              "<div>\n",
              "<style scoped>\n",
              "    .dataframe tbody tr th:only-of-type {\n",
              "        vertical-align: middle;\n",
              "    }\n",
              "\n",
              "    .dataframe tbody tr th {\n",
              "        vertical-align: top;\n",
              "    }\n",
              "\n",
              "    .dataframe thead th {\n",
              "        text-align: right;\n",
              "    }\n",
              "</style>\n",
              "<table border=\"1\" class=\"dataframe\">\n",
              "  <thead>\n",
              "    <tr style=\"text-align: right;\">\n",
              "      <th></th>\n",
              "      <th>symbol</th>\n",
              "      <th>name</th>\n",
              "      <th>issue_date</th>\n",
              "      <th>EPS</th>\n",
              "      <th>QuoteLast</th>\n",
              "      <th>Price200DayAverage</th>\n",
              "      <th>Price52WeekPercChange</th>\n",
              "      <th>PriceToBook</th>\n",
              "      <th>MarketCap</th>\n",
              "      <th>PE</th>\n",
              "      <th>DividendRecentQuarter</th>\n",
              "      <th>DividendNextQuarter</th>\n",
              "      <th>DPSRecentYear</th>\n",
              "      <th>IAD</th>\n",
              "      <th>DividendPerShare</th>\n",
              "      <th>DividendYield</th>\n",
              "      <th>Dividend</th>\n",
              "      <th>BookValuePerShareYear</th>\n",
              "      <th>CashPerShareYear</th>\n",
              "      <th>CurrentRatioYear</th>\n",
              "      <th>LTDebtToAssetsYear</th>\n",
              "      <th>LTDebtToAssetsQuarter</th>\n",
              "      <th>TotalDebtToAssetsYear</th>\n",
              "      <th>TotalDebtToAssetsQuarter</th>\n",
              "      <th>LTDebtToEquityYear</th>\n",
              "      <th>LTDebtToEquityQuarter</th>\n",
              "      <th>TotalDebtToEquityYear</th>\n",
              "      <th>TotalDebtToEquityQuarter</th>\n",
              "      <th>AINTCOV</th>\n",
              "      <th>ReturnOnInvestmentTTM</th>\n",
              "      <th>ReturnOnInvestment5Years</th>\n",
              "      <th>ReturnOnInvestmentYear</th>\n",
              "      <th>ReturnOnAssetsTTM</th>\n",
              "      <th>ReturnOnAssets5Years</th>\n",
              "      <th>ReturnOnAssetsYear</th>\n",
              "      <th>ReturnOnEquityTTM</th>\n",
              "      <th>ReturnOnEquity5Years</th>\n",
              "      <th>ReturnOnEquityYear</th>\n",
              "      <th>Beta</th>\n",
              "      <th>Float</th>\n",
              "      <th>InstitutionalPercentHeld</th>\n",
              "      <th>GrossMargin</th>\n",
              "      <th>EBITDMargin</th>\n",
              "      <th>OperatingMargin</th>\n",
              "      <th>NetProfitMarginPercent</th>\n",
              "      <th>NetIncomeGrowthRate5Years</th>\n",
              "      <th>RevenueGrowthRate5Years</th>\n",
              "      <th>RevenueGrowthRate10Years</th>\n",
              "      <th>EPSGrowthRate5Years</th>\n",
              "      <th>EPSGrowthRate10Years</th>\n",
              "      <th>Volume</th>\n",
              "      <th>AverageVolume</th>\n",
              "    </tr>\n",
              "  </thead>\n",
              "  <tbody>\n",
              "    <tr>\n",
              "      <th>0</th>\n",
              "      <td>AVM</td>\n",
              "      <td>Anvil Mining Ltd (CDI)</td>\n",
              "      <td>31/08/2013</td>\n",
              "      <td>0.26</td>\n",
              "      <td>7.45</td>\n",
              "      <td>6.73</td>\n",
              "      <td>27.35</td>\n",
              "      <td>1.45</td>\n",
              "      <td>1.180000e+09</td>\n",
              "      <td>28.21</td>\n",
              "      <td>0.0</td>\n",
              "      <td>0.00</td>\n",
              "      <td>0.00</td>\n",
              "      <td>0.00</td>\n",
              "      <td>0.00</td>\n",
              "      <td>0.00</td>\n",
              "      <td>0.0</td>\n",
              "      <td>5.14</td>\n",
              "      <td>0.50</td>\n",
              "      <td>2.47</td>\n",
              "      <td>4.71</td>\n",
              "      <td>3.84</td>\n",
              "      <td>5.40</td>\n",
              "      <td>5.74</td>\n",
              "      <td>5.43</td>\n",
              "      <td>4.58</td>\n",
              "      <td>6.23</td>\n",
              "      <td>6.85</td>\n",
              "      <td>0.00</td>\n",
              "      <td>6.36</td>\n",
              "      <td>3.25</td>\n",
              "      <td>2.74</td>\n",
              "      <td>5.90</td>\n",
              "      <td>2.99</td>\n",
              "      <td>2.63</td>\n",
              "      <td>7.10</td>\n",
              "      <td>2.86</td>\n",
              "      <td>3.48</td>\n",
              "      <td>1.34</td>\n",
              "      <td>97.80</td>\n",
              "      <td>0.0</td>\n",
              "      <td>47.96</td>\n",
              "      <td>30.74</td>\n",
              "      <td>38.49</td>\n",
              "      <td>37.11</td>\n",
              "      <td>21.62</td>\n",
              "      <td>0.55</td>\n",
              "      <td>0.00</td>\n",
              "      <td>12.59</td>\n",
              "      <td>0.00</td>\n",
              "      <td>0</td>\n",
              "      <td>0</td>\n",
              "    </tr>\n",
              "    <tr>\n",
              "      <th>1</th>\n",
              "      <td>VRX</td>\n",
              "      <td>Ventnor Resources Ltd</td>\n",
              "      <td>28/02/2019</td>\n",
              "      <td>0.07</td>\n",
              "      <td>0.02</td>\n",
              "      <td>0.02</td>\n",
              "      <td>53.64</td>\n",
              "      <td>0.94</td>\n",
              "      <td>4.470000e+06</td>\n",
              "      <td>0.00</td>\n",
              "      <td>0.0</td>\n",
              "      <td>0.00</td>\n",
              "      <td>0.00</td>\n",
              "      <td>0.00</td>\n",
              "      <td>0.00</td>\n",
              "      <td>0.00</td>\n",
              "      <td>0.0</td>\n",
              "      <td>0.02</td>\n",
              "      <td>0.00</td>\n",
              "      <td>14.30</td>\n",
              "      <td>0.00</td>\n",
              "      <td>0.00</td>\n",
              "      <td>0.00</td>\n",
              "      <td>0.00</td>\n",
              "      <td>0.00</td>\n",
              "      <td>0.00</td>\n",
              "      <td>0.00</td>\n",
              "      <td>0.00</td>\n",
              "      <td>0.00</td>\n",
              "      <td>122.70</td>\n",
              "      <td>29.92</td>\n",
              "      <td>122.70</td>\n",
              "      <td>120.92</td>\n",
              "      <td>27.85</td>\n",
              "      <td>120.92</td>\n",
              "      <td>122.70</td>\n",
              "      <td>29.92</td>\n",
              "      <td>122.70</td>\n",
              "      <td>0.64</td>\n",
              "      <td>191.16</td>\n",
              "      <td>0.0</td>\n",
              "      <td>0.00</td>\n",
              "      <td>871.54</td>\n",
              "      <td>14523.16</td>\n",
              "      <td>14523.16</td>\n",
              "      <td>0.00</td>\n",
              "      <td>7.92</td>\n",
              "      <td>0.00</td>\n",
              "      <td>0.00</td>\n",
              "      <td>0.00</td>\n",
              "      <td>355154</td>\n",
              "      <td>42368</td>\n",
              "    </tr>\n",
              "    <tr>\n",
              "      <th>2</th>\n",
              "      <td>4CE</td>\n",
              "      <td>Force Commodities Ltd</td>\n",
              "      <td>31/05/2012</td>\n",
              "      <td>0.01</td>\n",
              "      <td>0.03</td>\n",
              "      <td>0.04</td>\n",
              "      <td>16.66</td>\n",
              "      <td>1.09</td>\n",
              "      <td>5.370000e+06</td>\n",
              "      <td>0.00</td>\n",
              "      <td>0.0</td>\n",
              "      <td>0.00</td>\n",
              "      <td>0.00</td>\n",
              "      <td>0.00</td>\n",
              "      <td>0.00</td>\n",
              "      <td>0.00</td>\n",
              "      <td>0.0</td>\n",
              "      <td>0.02</td>\n",
              "      <td>0.00</td>\n",
              "      <td>1.55</td>\n",
              "      <td>0.00</td>\n",
              "      <td>0.00</td>\n",
              "      <td>0.00</td>\n",
              "      <td>0.00</td>\n",
              "      <td>0.00</td>\n",
              "      <td>0.00</td>\n",
              "      <td>0.00</td>\n",
              "      <td>0.00</td>\n",
              "      <td>3.66</td>\n",
              "      <td>18.63</td>\n",
              "      <td>40.06</td>\n",
              "      <td>24.44</td>\n",
              "      <td>15.77</td>\n",
              "      <td>36.43</td>\n",
              "      <td>20.09</td>\n",
              "      <td>18.69</td>\n",
              "      <td>41.40</td>\n",
              "      <td>24.52</td>\n",
              "      <td>0.86</td>\n",
              "      <td>87.74</td>\n",
              "      <td>0.0</td>\n",
              "      <td>0.00</td>\n",
              "      <td>164.37</td>\n",
              "      <td>185.37</td>\n",
              "      <td>232.56</td>\n",
              "      <td>0.00</td>\n",
              "      <td>0.00</td>\n",
              "      <td>0.00</td>\n",
              "      <td>0.00</td>\n",
              "      <td>0.00</td>\n",
              "      <td>1750000</td>\n",
              "      <td>1580000</td>\n",
              "    </tr>\n",
              "    <tr>\n",
              "      <th>3</th>\n",
              "      <td>TPC</td>\n",
              "      <td>TPC Consolidated Ltd</td>\n",
              "      <td>30/09/2015</td>\n",
              "      <td>0.25</td>\n",
              "      <td>1.73</td>\n",
              "      <td>0.78</td>\n",
              "      <td>0.00</td>\n",
              "      <td>8.23</td>\n",
              "      <td>1.944000e+07</td>\n",
              "      <td>0.00</td>\n",
              "      <td>0.0</td>\n",
              "      <td>0.00</td>\n",
              "      <td>0.00</td>\n",
              "      <td>0.00</td>\n",
              "      <td>0.00</td>\n",
              "      <td>0.00</td>\n",
              "      <td>0.0</td>\n",
              "      <td>0.21</td>\n",
              "      <td>0.11</td>\n",
              "      <td>1.14</td>\n",
              "      <td>0.00</td>\n",
              "      <td>0.00</td>\n",
              "      <td>11.03</td>\n",
              "      <td>11.03</td>\n",
              "      <td>0.00</td>\n",
              "      <td>0.00</td>\n",
              "      <td>78.50</td>\n",
              "      <td>78.50</td>\n",
              "      <td>0.00</td>\n",
              "      <td>93.35</td>\n",
              "      <td>61.70</td>\n",
              "      <td>93.35</td>\n",
              "      <td>17.64</td>\n",
              "      <td>14.76</td>\n",
              "      <td>17.64</td>\n",
              "      <td>97.22</td>\n",
              "      <td>89.55</td>\n",
              "      <td>97.22</td>\n",
              "      <td>1.63</td>\n",
              "      <td>2.37</td>\n",
              "      <td>0.0</td>\n",
              "      <td>16.06</td>\n",
              "      <td>6.45</td>\n",
              "      <td>6.77</td>\n",
              "      <td>5.33</td>\n",
              "      <td>0.00</td>\n",
              "      <td>4.55</td>\n",
              "      <td>6.24</td>\n",
              "      <td>0.00</td>\n",
              "      <td>0.00</td>\n",
              "      <td>0</td>\n",
              "      <td>5550</td>\n",
              "    </tr>\n",
              "    <tr>\n",
              "      <th>4</th>\n",
              "      <td>VII</td>\n",
              "      <td>Vietnam Industrial Investment Limited</td>\n",
              "      <td>30/06/2011</td>\n",
              "      <td>0.08</td>\n",
              "      <td>0.40</td>\n",
              "      <td>0.26</td>\n",
              "      <td>0.00</td>\n",
              "      <td>1.16</td>\n",
              "      <td>5.691000e+07</td>\n",
              "      <td>5.13</td>\n",
              "      <td>0.0</td>\n",
              "      <td>0.03</td>\n",
              "      <td>0.03</td>\n",
              "      <td>0.02</td>\n",
              "      <td>0.03</td>\n",
              "      <td>5.25</td>\n",
              "      <td>0.0</td>\n",
              "      <td>0.34</td>\n",
              "      <td>0.44</td>\n",
              "      <td>1.41</td>\n",
              "      <td>0.00</td>\n",
              "      <td>0.00</td>\n",
              "      <td>42.16</td>\n",
              "      <td>40.91</td>\n",
              "      <td>0.00</td>\n",
              "      <td>0.00</td>\n",
              "      <td>119.90</td>\n",
              "      <td>106.41</td>\n",
              "      <td>5.62</td>\n",
              "      <td>28.57</td>\n",
              "      <td>5.55</td>\n",
              "      <td>28.48</td>\n",
              "      <td>10.26</td>\n",
              "      <td>1.71</td>\n",
              "      <td>9.61</td>\n",
              "      <td>22.66</td>\n",
              "      <td>3.50</td>\n",
              "      <td>23.11</td>\n",
              "      <td>0.00</td>\n",
              "      <td>7.52</td>\n",
              "      <td>0.0</td>\n",
              "      <td>13.25</td>\n",
              "      <td>7.31</td>\n",
              "      <td>5.78</td>\n",
              "      <td>4.18</td>\n",
              "      <td>7.44</td>\n",
              "      <td>6.29</td>\n",
              "      <td>36.04</td>\n",
              "      <td>7.44</td>\n",
              "      <td>50.04</td>\n",
              "      <td>0</td>\n",
              "      <td>7234</td>\n",
              "    </tr>\n",
              "  </tbody>\n",
              "</table>\n",
              "</div>"
            ],
            "text/plain": [
              "  symbol                                   name  ...   Volume  AverageVolume\n",
              "0    AVM                 Anvil Mining Ltd (CDI)  ...        0              0\n",
              "1    VRX                  Ventnor Resources Ltd  ...   355154          42368\n",
              "2    4CE                  Force Commodities Ltd  ...  1750000        1580000\n",
              "3    TPC                   TPC Consolidated Ltd  ...        0           5550\n",
              "4    VII  Vietnam Industrial Investment Limited  ...        0           7234\n",
              "\n",
              "[5 rows x 52 columns]"
            ]
          },
          "metadata": {
            "tags": []
          },
          "execution_count": 26
        }
      ]
    },
    {
      "cell_type": "markdown",
      "metadata": {
        "id": "K8fDtQIYQieg"
      },
      "source": [
        "Выборка содержит информацию по 3047 клиентам Банка. 2041 наблюдение в выборке для разработки 1006 в тестовой выборке."
      ]
    },
    {
      "cell_type": "markdown",
      "metadata": {
        "id": "-OwTWLBARHyu"
      },
      "source": [
        "### График распределения фактического LGD"
      ]
    },
    {
      "cell_type": "code",
      "metadata": {
        "colab": {
          "base_uri": "https://localhost:8080/",
          "height": 312
        },
        "id": "1bVbEKmcQmiB",
        "outputId": "d67f2ac3-183b-41b9-afe5-21b7b67efafb"
      },
      "source": [
        "import matplotlib.pyplot as plt\n",
        "# bins = [0,10,20,30,40,50,60,70,80,90,100]\n",
        "plt.hist(train_df['LGD'].values, histtype='bar', rwidth=0.8)\n",
        "plt.xlabel('LGD, %')\n",
        "plt.ylabel('Кредиты, шт.')\n",
        "plt.title('Распределение LGD')\n",
        "plt.legend()\n",
        "plt.show()"
      ],
      "execution_count": null,
      "outputs": [
        {
          "output_type": "stream",
          "text": [
            "No handles with labels found to put in legend.\n"
          ],
          "name": "stderr"
        },
        {
          "output_type": "display_data",
          "data": {
            "image/png": "[encoded data removed]",
            "text/plain": [
              "<Figure size 432x288 with 1 Axes>"
            ]
          },
          "metadata": {
            "tags": [],
            "needs_background": "light"
          }
        }
      ]
    },
    {
      "cell_type": "markdown",
      "metadata": {
        "id": "vdpEO6lTRN75"
      },
      "source": [
        "Задача прогнозирования LGD - это задача регресии. Поэтому в качестве бейзлайна используем линейную регрессиию для предсказания."
      ]
    },
    {
      "cell_type": "markdown",
      "metadata": {
        "id": "WuuJueCkRcYD"
      },
      "source": [
        "Факторы возьмем экспертно, как те, которые потенциально должны оказывать влияние на LGD"
      ]
    },
    {
      "cell_type": "code",
      "metadata": {
        "id": "YW0fxO7vRDOu"
      },
      "source": [
        "features = ['EPS', 'MarketCap','TotalDebtToEquityYear','GrossMargin']"
      ],
      "execution_count": null,
      "outputs": []
    },
    {
      "cell_type": "code",
      "metadata": {
        "id": "o4FbAYA3Rlhd"
      },
      "source": [
        "l_r = LinearRegression()"
      ],
      "execution_count": null,
      "outputs": []
    },
    {
      "cell_type": "code",
      "metadata": {
        "colab": {
          "base_uri": "https://localhost:8080/"
        },
        "id": "XZIVdMR9Rnjd",
        "outputId": "fc2f0aa4-f28b-493b-8a0e-14ad331b155e"
      },
      "source": [
        "l_r.fit(train_df[features], train_df['LGD'])"
      ],
      "execution_count": null,
      "outputs": [
        {
          "output_type": "execute_result",
          "data": {
            "text/plain": [
              "LinearRegression(copy_X=True, fit_intercept=True, n_jobs=None, normalize=False)"
            ]
          },
          "metadata": {
            "tags": []
          },
          "execution_count": 30
        }
      ]
    },
    {
      "cell_type": "markdown",
      "metadata": {
        "id": "TOkPsc-BR-mV"
      },
      "source": [
        "Метрика MAE\n",
        "![MAE.png](data:image/png;base64,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)\n"
      ]
    },
    {
      "cell_type": "code",
      "metadata": {
        "colab": {
          "base_uri": "https://localhost:8080/"
        },
        "id": "FPZVOjOORrDt",
        "outputId": "ae6c053c-d4be-4dcd-ae5d-4b613a26d4a8"
      },
      "source": [
        "mean_absolute_error(train_df['LGD'], l_r.predict(train_df[features]))"
      ],
      "execution_count": null,
      "outputs": [
        {
          "output_type": "execute_result",
          "data": {
            "text/plain": [
              "0.33444468553373075"
            ]
          },
          "metadata": {
            "tags": []
          },
          "execution_count": 31
        }
      ]
    },
    {
      "cell_type": "code",
      "metadata": {
        "colab": {
          "base_uri": "https://localhost:8080/",
          "height": 312
        },
        "id": "QRkHsxlgUg3R",
        "outputId": "7d2444ab-9722-4d56-87e7-b23c9296d65f"
      },
      "source": [
        "import matplotlib.pyplot as plt\n",
        "bins = [0, 0.1, 0.2, 0.3, 0.4, 0.5, 0.6, 0.7, 0.8, 0.9, 1]\n",
        "plt.hist(l_r.predict(train_df[features]), bins=bins, histtype='bar', rwidth=0.8)\n",
        "plt.xlabel('LGD, %')\n",
        "plt.ylabel('Кредиты, шт.')\n",
        "plt.title('Распределение LGD')\n",
        "plt.legend()\n",
        "plt.show()"
      ],
      "execution_count": null,
      "outputs": [
        {
          "output_type": "stream",
          "text": [
            "No handles with labels found to put in legend.\n"
          ],
          "name": "stderr"
        },
        {
          "output_type": "display_data",
          "data": {
            "image/png": "[encoded data removed]",
            "text/plain": [
              "<Figure size 432x288 with 1 Axes>"
            ]
          },
          "metadata": {
            "tags": [],
            "needs_background": "light"
          }
        }
      ]
    },
    {
      "cell_type": "markdown",
      "metadata": {
        "id": "da-457Yg5N8-"
      },
      "source": [
        "Текущая модель приблежает среднее, что неплохо для бейзлайна."
      ]
    },
    {
      "cell_type": "code",
      "metadata": {
        "id": "jNvgCtIDcOHP"
      },
      "source": [
        "predictions = l_r.predict(test_df[features])"
      ],
      "execution_count": null,
      "outputs": []
    },
    {
      "cell_type": "code",
      "metadata": {
        "id": "-q282ML-yKx1"
      },
      "source": [
        "answ_df = test_df[['symbol']].copy()"
      ],
      "execution_count": null,
      "outputs": []
    },
    {
      "cell_type": "code",
      "metadata": {
        "id": "8gJtrbvwyQrT"
      },
      "source": [
        "answ_df['predictions'] = predictions"
      ],
      "execution_count": null,
      "outputs": []
    },
    {
      "cell_type": "code",
      "metadata": {
        "colab": {
          "base_uri": "https://localhost:8080/",
          "height": 204
        },
        "id": "jfhQXMcAyTiY",
        "outputId": "9e1a6a8f-ee86-47d2-b919-72281c66119e"
      },
      "source": [
        "answ_df.head()"
      ],
      "execution_count": null,
      "outputs": [
        {
          "output_type": "execute_result",
          "data": {
            "text/html": [
              "<div>\n",
              "<style scoped>\n",
              "    .dataframe tbody tr th:only-of-type {\n",
              "        vertical-align: middle;\n",
              "    }\n",
              "\n",
              "    .dataframe tbody tr th {\n",
              "        vertical-align: top;\n",
              "    }\n",
              "\n",
              "    .dataframe thead th {\n",
              "        text-align: right;\n",
              "    }\n",
              "</style>\n",
              "<table border=\"1\" class=\"dataframe\">\n",
              "  <thead>\n",
              "    <tr style=\"text-align: right;\">\n",
              "      <th></th>\n",
              "      <th>symbol</th>\n",
              "      <th>predictions</th>\n",
              "    </tr>\n",
              "  </thead>\n",
              "  <tbody>\n",
              "    <tr>\n",
              "      <th>0</th>\n",
              "      <td>AVM</td>\n",
              "      <td>0.659183</td>\n",
              "    </tr>\n",
              "    <tr>\n",
              "      <th>1</th>\n",
              "      <td>VRX</td>\n",
              "      <td>0.659985</td>\n",
              "    </tr>\n",
              "    <tr>\n",
              "      <th>2</th>\n",
              "      <td>4CE</td>\n",
              "      <td>0.659720</td>\n",
              "    </tr>\n",
              "    <tr>\n",
              "      <th>3</th>\n",
              "      <td>TPC</td>\n",
              "      <td>0.659700</td>\n",
              "    </tr>\n",
              "    <tr>\n",
              "      <th>4</th>\n",
              "      <td>VII</td>\n",
              "      <td>0.658326</td>\n",
              "    </tr>\n",
              "  </tbody>\n",
              "</table>\n",
              "</div>"
            ],
            "text/plain": [
              "  symbol  predictions\n",
              "0    AVM     0.659183\n",
              "1    VRX     0.659985\n",
              "2    4CE     0.659720\n",
              "3    TPC     0.659700\n",
              "4    VII     0.658326"
            ]
          },
          "metadata": {
            "tags": []
          },
          "execution_count": 36
        }
      ]
    },
    {
      "cell_type": "code",
      "metadata": {
        "id": "qoo7dMnjyU8F"
      },
      "source": [
        "answ_df.to_csv('LGD-submit.csv', index=False)"
      ],
      "execution_count": null,
      "outputs": []
    }
  ]
}